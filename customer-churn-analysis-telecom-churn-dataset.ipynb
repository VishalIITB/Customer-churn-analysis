{
 "cells": [
  {
   "cell_type": "code",
   "execution_count": 1,
   "id": "e4e75baa",
   "metadata": {
    "_cell_guid": "b1076dfc-b9ad-4769-8c92-a6c4dae69d19",
    "_uuid": "8f2839f25d086af736a60e9eeb907d3b93b6e0e5",
    "execution": {
     "iopub.execute_input": "2024-10-25T08:28:25.055151Z",
     "iopub.status.busy": "2024-10-25T08:28:25.054697Z",
     "iopub.status.idle": "2024-10-25T08:28:25.876300Z",
     "shell.execute_reply": "2024-10-25T08:28:25.875271Z"
    },
    "papermill": {
     "duration": 0.845377,
     "end_time": "2024-10-25T08:28:25.878722",
     "exception": false,
     "start_time": "2024-10-25T08:28:25.033345",
     "status": "completed"
    },
    "tags": []
   },
   "outputs": [],
   "source": [
    "# This Python 3 environment comes with many helpful analytics libraries installed\n",
    "# It is defined by the kaggle/python Docker image: https://github.com/kaggle/docker-python\n",
    "# For example, here's several helpful packages to load\n",
    "\n",
    "import numpy as np # linear algebra\n",
    "import pandas as pd # data processing, CSV file I/O (e.g. pd.read_csv)\n",
    "\n",
    "# Input data files are available in the read-only \"../input/\" directory\n",
    "# For example, running this (by clicking run or pressing Shift+Enter) will list all files under the input directory\n",
    "\n",
    "import os\n",
    "for dirname, _, filenames in os.walk('/kaggle/input'):\n",
    "    path = []\n",
    "    for filename in filenames:\n",
    "        path.append(os.path.join(dirname, filename))\n",
    "\n",
    "# You can write up to 20GB to the current directory (/kaggle/working/) that gets preserved as output when you create a version using \"Save & Run All\" \n",
    "# You can also write temporary files to /kaggle/temp/, but they won't be saved outside of the current session"
   ]
  },
  {
   "cell_type": "code",
   "execution_count": 2,
   "id": "176b52b9",
   "metadata": {
    "execution": {
     "iopub.execute_input": "2024-10-25T08:28:25.917891Z",
     "iopub.status.busy": "2024-10-25T08:28:25.916673Z",
     "iopub.status.idle": "2024-10-25T08:28:26.002754Z",
     "shell.execute_reply": "2024-10-25T08:28:26.001710Z"
    },
    "papermill": {
     "duration": 0.107798,
     "end_time": "2024-10-25T08:28:26.005178",
     "exception": false,
     "start_time": "2024-10-25T08:28:25.897380",
     "status": "completed"
    },
    "tags": []
   },
   "outputs": [
    {
     "data": {
      "text/html": [
       "<div>\n",
       "<style scoped>\n",
       "    .dataframe tbody tr th:only-of-type {\n",
       "        vertical-align: middle;\n",
       "    }\n",
       "\n",
       "    .dataframe tbody tr th {\n",
       "        vertical-align: top;\n",
       "    }\n",
       "\n",
       "    .dataframe thead th {\n",
       "        text-align: right;\n",
       "    }\n",
       "</style>\n",
       "<table border=\"1\" class=\"dataframe\">\n",
       "  <thead>\n",
       "    <tr style=\"text-align: right;\">\n",
       "      <th></th>\n",
       "      <th>customerID</th>\n",
       "      <th>gender</th>\n",
       "      <th>SeniorCitizen</th>\n",
       "      <th>Partner</th>\n",
       "      <th>Dependents</th>\n",
       "      <th>tenure</th>\n",
       "      <th>PhoneService</th>\n",
       "      <th>MultipleLines</th>\n",
       "      <th>InternetService</th>\n",
       "      <th>OnlineSecurity</th>\n",
       "      <th>...</th>\n",
       "      <th>DeviceProtection</th>\n",
       "      <th>TechSupport</th>\n",
       "      <th>StreamingTV</th>\n",
       "      <th>StreamingMovies</th>\n",
       "      <th>Contract</th>\n",
       "      <th>PaperlessBilling</th>\n",
       "      <th>PaymentMethod</th>\n",
       "      <th>MonthlyCharges</th>\n",
       "      <th>TotalCharges</th>\n",
       "      <th>Churn</th>\n",
       "    </tr>\n",
       "  </thead>\n",
       "  <tbody>\n",
       "    <tr>\n",
       "      <th>0</th>\n",
       "      <td>7590-VHVEG</td>\n",
       "      <td>Female</td>\n",
       "      <td>0</td>\n",
       "      <td>Yes</td>\n",
       "      <td>No</td>\n",
       "      <td>1</td>\n",
       "      <td>No</td>\n",
       "      <td>No phone service</td>\n",
       "      <td>DSL</td>\n",
       "      <td>No</td>\n",
       "      <td>...</td>\n",
       "      <td>No</td>\n",
       "      <td>No</td>\n",
       "      <td>No</td>\n",
       "      <td>No</td>\n",
       "      <td>Month-to-month</td>\n",
       "      <td>Yes</td>\n",
       "      <td>Electronic check</td>\n",
       "      <td>29.85</td>\n",
       "      <td>29.85</td>\n",
       "      <td>No</td>\n",
       "    </tr>\n",
       "    <tr>\n",
       "      <th>1</th>\n",
       "      <td>5575-GNVDE</td>\n",
       "      <td>Male</td>\n",
       "      <td>0</td>\n",
       "      <td>No</td>\n",
       "      <td>No</td>\n",
       "      <td>34</td>\n",
       "      <td>Yes</td>\n",
       "      <td>No</td>\n",
       "      <td>DSL</td>\n",
       "      <td>Yes</td>\n",
       "      <td>...</td>\n",
       "      <td>Yes</td>\n",
       "      <td>No</td>\n",
       "      <td>No</td>\n",
       "      <td>No</td>\n",
       "      <td>One year</td>\n",
       "      <td>No</td>\n",
       "      <td>Mailed check</td>\n",
       "      <td>56.95</td>\n",
       "      <td>1889.5</td>\n",
       "      <td>No</td>\n",
       "    </tr>\n",
       "    <tr>\n",
       "      <th>2</th>\n",
       "      <td>3668-QPYBK</td>\n",
       "      <td>Male</td>\n",
       "      <td>0</td>\n",
       "      <td>No</td>\n",
       "      <td>No</td>\n",
       "      <td>2</td>\n",
       "      <td>Yes</td>\n",
       "      <td>No</td>\n",
       "      <td>DSL</td>\n",
       "      <td>Yes</td>\n",
       "      <td>...</td>\n",
       "      <td>No</td>\n",
       "      <td>No</td>\n",
       "      <td>No</td>\n",
       "      <td>No</td>\n",
       "      <td>Month-to-month</td>\n",
       "      <td>Yes</td>\n",
       "      <td>Mailed check</td>\n",
       "      <td>53.85</td>\n",
       "      <td>108.15</td>\n",
       "      <td>Yes</td>\n",
       "    </tr>\n",
       "    <tr>\n",
       "      <th>3</th>\n",
       "      <td>7795-CFOCW</td>\n",
       "      <td>Male</td>\n",
       "      <td>0</td>\n",
       "      <td>No</td>\n",
       "      <td>No</td>\n",
       "      <td>45</td>\n",
       "      <td>No</td>\n",
       "      <td>No phone service</td>\n",
       "      <td>DSL</td>\n",
       "      <td>Yes</td>\n",
       "      <td>...</td>\n",
       "      <td>Yes</td>\n",
       "      <td>Yes</td>\n",
       "      <td>No</td>\n",
       "      <td>No</td>\n",
       "      <td>One year</td>\n",
       "      <td>No</td>\n",
       "      <td>Bank transfer (automatic)</td>\n",
       "      <td>42.30</td>\n",
       "      <td>1840.75</td>\n",
       "      <td>No</td>\n",
       "    </tr>\n",
       "    <tr>\n",
       "      <th>4</th>\n",
       "      <td>9237-HQITU</td>\n",
       "      <td>Female</td>\n",
       "      <td>0</td>\n",
       "      <td>No</td>\n",
       "      <td>No</td>\n",
       "      <td>2</td>\n",
       "      <td>Yes</td>\n",
       "      <td>No</td>\n",
       "      <td>Fiber optic</td>\n",
       "      <td>No</td>\n",
       "      <td>...</td>\n",
       "      <td>No</td>\n",
       "      <td>No</td>\n",
       "      <td>No</td>\n",
       "      <td>No</td>\n",
       "      <td>Month-to-month</td>\n",
       "      <td>Yes</td>\n",
       "      <td>Electronic check</td>\n",
       "      <td>70.70</td>\n",
       "      <td>151.65</td>\n",
       "      <td>Yes</td>\n",
       "    </tr>\n",
       "  </tbody>\n",
       "</table>\n",
       "<p>5 rows × 21 columns</p>\n",
       "</div>"
      ],
      "text/plain": [
       "   customerID  gender  SeniorCitizen Partner Dependents  tenure PhoneService  \\\n",
       "0  7590-VHVEG  Female              0     Yes         No       1           No   \n",
       "1  5575-GNVDE    Male              0      No         No      34          Yes   \n",
       "2  3668-QPYBK    Male              0      No         No       2          Yes   \n",
       "3  7795-CFOCW    Male              0      No         No      45           No   \n",
       "4  9237-HQITU  Female              0      No         No       2          Yes   \n",
       "\n",
       "      MultipleLines InternetService OnlineSecurity  ... DeviceProtection  \\\n",
       "0  No phone service             DSL             No  ...               No   \n",
       "1                No             DSL            Yes  ...              Yes   \n",
       "2                No             DSL            Yes  ...               No   \n",
       "3  No phone service             DSL            Yes  ...              Yes   \n",
       "4                No     Fiber optic             No  ...               No   \n",
       "\n",
       "  TechSupport StreamingTV StreamingMovies        Contract PaperlessBilling  \\\n",
       "0          No          No              No  Month-to-month              Yes   \n",
       "1          No          No              No        One year               No   \n",
       "2          No          No              No  Month-to-month              Yes   \n",
       "3         Yes          No              No        One year               No   \n",
       "4          No          No              No  Month-to-month              Yes   \n",
       "\n",
       "               PaymentMethod MonthlyCharges  TotalCharges Churn  \n",
       "0           Electronic check          29.85         29.85    No  \n",
       "1               Mailed check          56.95        1889.5    No  \n",
       "2               Mailed check          53.85        108.15   Yes  \n",
       "3  Bank transfer (automatic)          42.30       1840.75    No  \n",
       "4           Electronic check          70.70        151.65   Yes  \n",
       "\n",
       "[5 rows x 21 columns]"
      ]
     },
     "execution_count": 2,
     "metadata": {},
     "output_type": "execute_result"
    }
   ],
   "source": [
    "## Load the dataset and visulaize first 5 rows\n",
    "data = pd.read_csv(path[0])\n",
    "data.head()"
   ]
  },
  {
   "cell_type": "code",
   "execution_count": 3,
   "id": "014ca097",
   "metadata": {
    "execution": {
     "iopub.execute_input": "2024-10-25T08:28:26.045033Z",
     "iopub.status.busy": "2024-10-25T08:28:26.044148Z",
     "iopub.status.idle": "2024-10-25T08:28:26.050364Z",
     "shell.execute_reply": "2024-10-25T08:28:26.049433Z"
    },
    "papermill": {
     "duration": 0.028005,
     "end_time": "2024-10-25T08:28:26.052514",
     "exception": false,
     "start_time": "2024-10-25T08:28:26.024509",
     "status": "completed"
    },
    "tags": []
   },
   "outputs": [
    {
     "data": {
      "text/plain": [
       "(7043, 21)"
      ]
     },
     "execution_count": 3,
     "metadata": {},
     "output_type": "execute_result"
    }
   ],
   "source": [
    "## Shape of this dataset\n",
    "data.shape"
   ]
  },
  {
   "cell_type": "code",
   "execution_count": 4,
   "id": "a3671b55",
   "metadata": {
    "execution": {
     "iopub.execute_input": "2024-10-25T08:28:26.091158Z",
     "iopub.status.busy": "2024-10-25T08:28:26.090754Z",
     "iopub.status.idle": "2024-10-25T08:28:26.119057Z",
     "shell.execute_reply": "2024-10-25T08:28:26.118076Z"
    },
    "papermill": {
     "duration": 0.050931,
     "end_time": "2024-10-25T08:28:26.121904",
     "exception": false,
     "start_time": "2024-10-25T08:28:26.070973",
     "status": "completed"
    },
    "tags": []
   },
   "outputs": [
    {
     "name": "stdout",
     "output_type": "stream",
     "text": [
      "<class 'pandas.core.frame.DataFrame'>\n",
      "RangeIndex: 7043 entries, 0 to 7042\n",
      "Data columns (total 21 columns):\n",
      " #   Column            Non-Null Count  Dtype  \n",
      "---  ------            --------------  -----  \n",
      " 0   customerID        7043 non-null   object \n",
      " 1   gender            7043 non-null   object \n",
      " 2   SeniorCitizen     7043 non-null   int64  \n",
      " 3   Partner           7043 non-null   object \n",
      " 4   Dependents        7043 non-null   object \n",
      " 5   tenure            7043 non-null   int64  \n",
      " 6   PhoneService      7043 non-null   object \n",
      " 7   MultipleLines     7043 non-null   object \n",
      " 8   InternetService   7043 non-null   object \n",
      " 9   OnlineSecurity    7043 non-null   object \n",
      " 10  OnlineBackup      7043 non-null   object \n",
      " 11  DeviceProtection  7043 non-null   object \n",
      " 12  TechSupport       7043 non-null   object \n",
      " 13  StreamingTV       7043 non-null   object \n",
      " 14  StreamingMovies   7043 non-null   object \n",
      " 15  Contract          7043 non-null   object \n",
      " 16  PaperlessBilling  7043 non-null   object \n",
      " 17  PaymentMethod     7043 non-null   object \n",
      " 18  MonthlyCharges    7043 non-null   float64\n",
      " 19  TotalCharges      7043 non-null   object \n",
      " 20  Churn             7043 non-null   object \n",
      "dtypes: float64(1), int64(2), object(18)\n",
      "memory usage: 1.1+ MB\n"
     ]
    }
   ],
   "source": [
    "## Info about columns and their types\n",
    "data.info()"
   ]
  },
  {
   "cell_type": "code",
   "execution_count": 5,
   "id": "93ede9da",
   "metadata": {
    "execution": {
     "iopub.execute_input": "2024-10-25T08:28:26.160688Z",
     "iopub.status.busy": "2024-10-25T08:28:26.160249Z",
     "iopub.status.idle": "2024-10-25T08:28:26.169771Z",
     "shell.execute_reply": "2024-10-25T08:28:26.168672Z"
    },
    "papermill": {
     "duration": 0.031286,
     "end_time": "2024-10-25T08:28:26.171847",
     "exception": false,
     "start_time": "2024-10-25T08:28:26.140561",
     "status": "completed"
    },
    "tags": []
   },
   "outputs": [
    {
     "name": "stdout",
     "output_type": "stream",
     "text": [
      "Data type of Total Charges column is : float64\n"
     ]
    }
   ],
   "source": [
    "## The total charges column in object it should be numeric\n",
    "data['TotalCharges'] = pd.to_numeric(data['TotalCharges'], errors='coerce')\n",
    "print(f\"Data type of Total Charges column is : {data['TotalCharges'].dtype}\")"
   ]
  },
  {
   "cell_type": "code",
   "execution_count": 6,
   "id": "589344ec",
   "metadata": {
    "execution": {
     "iopub.execute_input": "2024-10-25T08:28:26.211023Z",
     "iopub.status.busy": "2024-10-25T08:28:26.210670Z",
     "iopub.status.idle": "2024-10-25T08:28:26.224733Z",
     "shell.execute_reply": "2024-10-25T08:28:26.223663Z"
    },
    "papermill": {
     "duration": 0.03578,
     "end_time": "2024-10-25T08:28:26.226677",
     "exception": false,
     "start_time": "2024-10-25T08:28:26.190897",
     "status": "completed"
    },
    "tags": []
   },
   "outputs": [
    {
     "data": {
      "text/plain": [
       "customerID           0\n",
       "gender               0\n",
       "SeniorCitizen        0\n",
       "Partner              0\n",
       "Dependents           0\n",
       "tenure               0\n",
       "PhoneService         0\n",
       "MultipleLines        0\n",
       "InternetService      0\n",
       "OnlineSecurity       0\n",
       "OnlineBackup         0\n",
       "DeviceProtection     0\n",
       "TechSupport          0\n",
       "StreamingTV          0\n",
       "StreamingMovies      0\n",
       "Contract             0\n",
       "PaperlessBilling     0\n",
       "PaymentMethod        0\n",
       "MonthlyCharges       0\n",
       "TotalCharges        11\n",
       "Churn                0\n",
       "dtype: int64"
      ]
     },
     "execution_count": 6,
     "metadata": {},
     "output_type": "execute_result"
    }
   ],
   "source": [
    "## Lets check for any null values\n",
    "data.isna().sum()"
   ]
  },
  {
   "cell_type": "markdown",
   "id": "3044dced",
   "metadata": {
    "papermill": {
     "duration": 0.018243,
     "end_time": "2024-10-25T08:28:26.263716",
     "exception": false,
     "start_time": "2024-10-25T08:28:26.245473",
     "status": "completed"
    },
    "tags": []
   },
   "source": [
    "#### OOww Total Charges column contains some null values, what to be done, lets drop them\n",
    "##### because they are very less in number as compared to data points we have"
   ]
  },
  {
   "cell_type": "code",
   "execution_count": 7,
   "id": "eb4801fa",
   "metadata": {
    "execution": {
     "iopub.execute_input": "2024-10-25T08:28:26.302568Z",
     "iopub.status.busy": "2024-10-25T08:28:26.302190Z",
     "iopub.status.idle": "2024-10-25T08:28:26.316979Z",
     "shell.execute_reply": "2024-10-25T08:28:26.315944Z"
    },
    "papermill": {
     "duration": 0.036888,
     "end_time": "2024-10-25T08:28:26.319257",
     "exception": false,
     "start_time": "2024-10-25T08:28:26.282369",
     "status": "completed"
    },
    "tags": []
   },
   "outputs": [],
   "source": [
    "## incplace = True (is done to make changes in original dataset rather than returning a new object)\n",
    "data.dropna(inplace=True)"
   ]
  },
  {
   "cell_type": "code",
   "execution_count": 8,
   "id": "9fb56845",
   "metadata": {
    "execution": {
     "iopub.execute_input": "2024-10-25T08:28:26.358716Z",
     "iopub.status.busy": "2024-10-25T08:28:26.358003Z",
     "iopub.status.idle": "2024-10-25T08:28:26.372250Z",
     "shell.execute_reply": "2024-10-25T08:28:26.371254Z"
    },
    "papermill": {
     "duration": 0.035964,
     "end_time": "2024-10-25T08:28:26.374231",
     "exception": false,
     "start_time": "2024-10-25T08:28:26.338267",
     "status": "completed"
    },
    "tags": []
   },
   "outputs": [
    {
     "data": {
      "text/plain": [
       "customerID          0\n",
       "gender              0\n",
       "SeniorCitizen       0\n",
       "Partner             0\n",
       "Dependents          0\n",
       "tenure              0\n",
       "PhoneService        0\n",
       "MultipleLines       0\n",
       "InternetService     0\n",
       "OnlineSecurity      0\n",
       "OnlineBackup        0\n",
       "DeviceProtection    0\n",
       "TechSupport         0\n",
       "StreamingTV         0\n",
       "StreamingMovies     0\n",
       "Contract            0\n",
       "PaperlessBilling    0\n",
       "PaymentMethod       0\n",
       "MonthlyCharges      0\n",
       "TotalCharges        0\n",
       "Churn               0\n",
       "dtype: int64"
      ]
     },
     "execution_count": 8,
     "metadata": {},
     "output_type": "execute_result"
    }
   ],
   "source": [
    "data.isna().sum()"
   ]
  },
  {
   "cell_type": "markdown",
   "id": "11cf8d05",
   "metadata": {
    "papermill": {
     "duration": 0.018437,
     "end_time": "2024-10-25T08:28:26.411299",
     "exception": false,
     "start_time": "2024-10-25T08:28:26.392862",
     "status": "completed"
    },
    "tags": []
   },
   "source": [
    "#### Now we don't have any missing values "
   ]
  },
  {
   "cell_type": "markdown",
   "id": "c40ca918",
   "metadata": {
    "papermill": {
     "duration": 0.01823,
     "end_time": "2024-10-25T08:28:26.448060",
     "exception": false,
     "start_time": "2024-10-25T08:28:26.429830",
     "status": "completed"
    },
    "tags": []
   },
   "source": [
    "#### Lets check whether our dataset is balanced according to our target variable (Churn)"
   ]
  },
  {
   "cell_type": "code",
   "execution_count": 9,
   "id": "f8f5ebc4",
   "metadata": {
    "execution": {
     "iopub.execute_input": "2024-10-25T08:28:26.486776Z",
     "iopub.status.busy": "2024-10-25T08:28:26.486398Z",
     "iopub.status.idle": "2024-10-25T08:28:28.240075Z",
     "shell.execute_reply": "2024-10-25T08:28:28.239137Z"
    },
    "papermill": {
     "duration": 1.775672,
     "end_time": "2024-10-25T08:28:28.242359",
     "exception": false,
     "start_time": "2024-10-25T08:28:26.466687",
     "status": "completed"
    },
    "tags": []
   },
   "outputs": [
    {
     "data": {
      "text/plain": [
       "<Axes: xlabel='Churn', ylabel='count'>"
      ]
     },
     "execution_count": 9,
     "metadata": {},
     "output_type": "execute_result"
    },
    {
     "data": {
      "image/png": "[encoded data removed]",
      "text/plain": [
       "<Figure size 640x480 with 1 Axes>"
      ]
     },
     "metadata": {},
     "output_type": "display_data"
    }
   ],
   "source": [
    "import seaborn as sns\n",
    "sns.countplot(data, x='Churn')"
   ]
  },
  {
   "cell_type": "markdown",
   "id": "80c1039b",
   "metadata": {
    "papermill": {
     "duration": 0.019001,
     "end_time": "2024-10-25T08:28:28.280528",
     "exception": false,
     "start_time": "2024-10-25T08:28:28.261527",
     "status": "completed"
    },
    "tags": []
   },
   "source": [
    "#### Ufff, we can see that Customers that didn't Churned are much greater than customers that churned (Imbalanced dataset)\n",
    "* #### while sampling we need to care about doing stratified sampling so that in both training and testing our predicted classes should be in equal proportion"
   ]
  },
  {
   "cell_type": "code",
   "execution_count": 10,
   "id": "64f58ff5",
   "metadata": {
    "execution": {
     "iopub.execute_input": "2024-10-25T08:28:28.320481Z",
     "iopub.status.busy": "2024-10-25T08:28:28.319824Z",
     "iopub.status.idle": "2024-10-25T08:28:28.568305Z",
     "shell.execute_reply": "2024-10-25T08:28:28.567154Z"
    },
    "papermill": {
     "duration": 0.271139,
     "end_time": "2024-10-25T08:28:28.570681",
     "exception": false,
     "start_time": "2024-10-25T08:28:28.299542",
     "status": "completed"
    },
    "tags": []
   },
   "outputs": [
    {
     "name": "stdout",
     "output_type": "stream",
     "text": [
      "Shape of X_train : (5625, 19)\n",
      "Shape of y_train : (5625,)\n",
      "Shape of X_test : (1407, 19)\n",
      "Shape of y_test : (1407,)\n"
     ]
    }
   ],
   "source": [
    "## lets first slit this data into training and testing set so that we can deal with data snooping Bias\n",
    "X = data.drop(columns=['Churn', 'customerID'])\n",
    "y = data['Churn']\n",
    "from sklearn.model_selection import train_test_split\n",
    "X_train, X_test, y_train, y_test = train_test_split(X, y, test_size=0.2, shuffle=True, random_state=42, stratify=y)\n",
    "\n",
    "print(f\"Shape of X_train : {X_train.shape}\")\n",
    "print(f\"Shape of y_train : {y_train.shape}\")\n",
    "print(f\"Shape of X_test : {X_test.shape}\")\n",
    "print(f\"Shape of y_test : {y_test.shape}\")"
   ]
  },
  {
   "cell_type": "code",
   "execution_count": 11,
   "id": "6f0b50be",
   "metadata": {
    "execution": {
     "iopub.execute_input": "2024-10-25T08:28:28.610910Z",
     "iopub.status.busy": "2024-10-25T08:28:28.610539Z",
     "iopub.status.idle": "2024-10-25T08:28:28.619374Z",
     "shell.execute_reply": "2024-10-25T08:28:28.618171Z"
    },
    "papermill": {
     "duration": 0.031535,
     "end_time": "2024-10-25T08:28:28.621463",
     "exception": false,
     "start_time": "2024-10-25T08:28:28.589928",
     "status": "completed"
    },
    "tags": []
   },
   "outputs": [
    {
     "name": "stdout",
     "output_type": "stream",
     "text": [
      "Categorical columns : Index(['gender', 'Partner', 'Dependents', 'PhoneService', 'MultipleLines',\n",
      "       'InternetService', 'OnlineSecurity', 'OnlineBackup', 'DeviceProtection',\n",
      "       'TechSupport', 'StreamingTV', 'StreamingMovies', 'Contract',\n",
      "       'PaperlessBilling', 'PaymentMethod'],\n",
      "      dtype='object')\n",
      "Numerical columns : Index(['SeniorCitizen', 'tenure', 'MonthlyCharges', 'TotalCharges'], dtype='object')\n"
     ]
    }
   ],
   "source": [
    "## lets get the list of categorical and numerical columns\n",
    "cat_columns = X_train.select_dtypes(include='object').columns\n",
    "num_columns = X_train.select_dtypes(exclude='object').columns\n",
    "\n",
    "print(f\"Categorical columns : {cat_columns}\")\n",
    "print(f\"Numerical columns : {num_columns}\")"
   ]
  },
  {
   "cell_type": "markdown",
   "id": "442db031",
   "metadata": {
    "papermill": {
     "duration": 0.018898,
     "end_time": "2024-10-25T08:28:28.659555",
     "exception": false,
     "start_time": "2024-10-25T08:28:28.640657",
     "status": "completed"
    },
    "tags": []
   },
   "source": [
    "# Data Analysis"
   ]
  },
  {
   "cell_type": "code",
   "execution_count": 12,
   "id": "8a35a495",
   "metadata": {
    "execution": {
     "iopub.execute_input": "2024-10-25T08:28:28.699753Z",
     "iopub.status.busy": "2024-10-25T08:28:28.698749Z",
     "iopub.status.idle": "2024-10-25T08:28:28.703833Z",
     "shell.execute_reply": "2024-10-25T08:28:28.702794Z"
    },
    "papermill": {
     "duration": 0.027292,
     "end_time": "2024-10-25T08:28:28.705839",
     "exception": false,
     "start_time": "2024-10-25T08:28:28.678547",
     "status": "completed"
    },
    "tags": []
   },
   "outputs": [],
   "source": [
    "import matplotlib.pyplot as plt\n",
    "import seaborn as sns"
   ]
  },
  {
   "cell_type": "code",
   "execution_count": 13,
   "id": "09c43e3f",
   "metadata": {
    "execution": {
     "iopub.execute_input": "2024-10-25T08:28:28.746706Z",
     "iopub.status.busy": "2024-10-25T08:28:28.745802Z",
     "iopub.status.idle": "2024-10-25T08:28:28.754564Z",
     "shell.execute_reply": "2024-10-25T08:28:28.753529Z"
    },
    "papermill": {
     "duration": 0.031399,
     "end_time": "2024-10-25T08:28:28.756601",
     "exception": false,
     "start_time": "2024-10-25T08:28:28.725202",
     "status": "completed"
    },
    "tags": []
   },
   "outputs": [
    {
     "data": {
      "text/plain": [
       "gender\n",
       "Male      2823\n",
       "Female    2802\n",
       "Name: count, dtype: int64"
      ]
     },
     "execution_count": 13,
     "metadata": {},
     "output_type": "execute_result"
    }
   ],
   "source": [
    "## checking the gender distribution how many males and feamales do we have\n",
    "X_train['gender'].value_counts()"
   ]
  },
  {
   "cell_type": "code",
   "execution_count": 14,
   "id": "8757a1ec",
   "metadata": {
    "execution": {
     "iopub.execute_input": "2024-10-25T08:28:28.797584Z",
     "iopub.status.busy": "2024-10-25T08:28:28.796730Z",
     "iopub.status.idle": "2024-10-25T08:28:28.944706Z",
     "shell.execute_reply": "2024-10-25T08:28:28.943560Z"
    },
    "papermill": {
     "duration": 0.171603,
     "end_time": "2024-10-25T08:28:28.947751",
     "exception": false,
     "start_time": "2024-10-25T08:28:28.776148",
     "status": "completed"
    },
    "tags": []
   },
   "outputs": [
    {
     "data": {
      "text/plain": [
       "<Axes: xlabel='gender', ylabel='count'>"
      ]
     },
     "execution_count": 14,
     "metadata": {},
     "output_type": "execute_result"
    },
    {
     "data": {
      "image/png": "[encoded data removed]",
      "text/plain": [
       "<Figure size 640x480 with 1 Axes>"
      ]
     },
     "metadata": {},
     "output_type": "display_data"
    }
   ],
   "source": [
    "sns.countplot(X_train, x='gender')"
   ]
  },
  {
   "cell_type": "markdown",
   "id": "c0ec8fa0",
   "metadata": {
    "papermill": {
     "duration": 0.019385,
     "end_time": "2024-10-25T08:28:28.987016",
     "exception": false,
     "start_time": "2024-10-25T08:28:28.967631",
     "status": "completed"
    },
    "tags": []
   },
   "source": [
    "* #### Checking the phone services distribution "
   ]
  },
  {
   "cell_type": "code",
   "execution_count": 15,
   "id": "4ae9bf02",
   "metadata": {
    "execution": {
     "iopub.execute_input": "2024-10-25T08:28:29.029386Z",
     "iopub.status.busy": "2024-10-25T08:28:29.028393Z",
     "iopub.status.idle": "2024-10-25T08:28:29.037567Z",
     "shell.execute_reply": "2024-10-25T08:28:29.036357Z"
    },
    "papermill": {
     "duration": 0.032581,
     "end_time": "2024-10-25T08:28:29.039765",
     "exception": false,
     "start_time": "2024-10-25T08:28:29.007184",
     "status": "completed"
    },
    "tags": []
   },
   "outputs": [
    {
     "data": {
      "text/plain": [
       "PhoneService\n",
       "Yes    5080\n",
       "No      545\n",
       "Name: count, dtype: int64"
      ]
     },
     "execution_count": 15,
     "metadata": {},
     "output_type": "execute_result"
    }
   ],
   "source": [
    "X_train['PhoneService'].value_counts()"
   ]
  },
  {
   "cell_type": "code",
   "execution_count": 16,
   "id": "f4886082",
   "metadata": {
    "execution": {
     "iopub.execute_input": "2024-10-25T08:28:29.081586Z",
     "iopub.status.busy": "2024-10-25T08:28:29.080673Z",
     "iopub.status.idle": "2024-10-25T08:28:29.312390Z",
     "shell.execute_reply": "2024-10-25T08:28:29.311376Z"
    },
    "papermill": {
     "duration": 0.255099,
     "end_time": "2024-10-25T08:28:29.314770",
     "exception": false,
     "start_time": "2024-10-25T08:28:29.059671",
     "status": "completed"
    },
    "tags": []
   },
   "outputs": [
    {
     "data": {
      "text/plain": [
       "<Axes: xlabel='PhoneService', ylabel='count'>"
      ]
     },
     "execution_count": 16,
     "metadata": {},
     "output_type": "execute_result"
    },
    {
     "data": {
      "image/png": "[encoded data removed]",
      "text/plain": [
       "<Figure size 640x480 with 1 Axes>"
      ]
     },
     "metadata": {},
     "output_type": "display_data"
    }
   ],
   "source": [
    "sns.countplot(X_train, x='PhoneService', hue='gender')"
   ]
  },
  {
   "cell_type": "markdown",
   "id": "249aa9e2",
   "metadata": {
    "papermill": {
     "duration": 0.019971,
     "end_time": "2024-10-25T08:28:29.355157",
     "exception": false,
     "start_time": "2024-10-25T08:28:29.335186",
     "status": "completed"
    },
    "tags": []
   },
   "source": [
    "* #### Checking the Payment method distrubution\n"
   ]
  },
  {
   "cell_type": "code",
   "execution_count": 17,
   "id": "d0e37b0e",
   "metadata": {
    "execution": {
     "iopub.execute_input": "2024-10-25T08:28:29.398005Z",
     "iopub.status.busy": "2024-10-25T08:28:29.396891Z",
     "iopub.status.idle": "2024-10-25T08:28:29.405831Z",
     "shell.execute_reply": "2024-10-25T08:28:29.404754Z"
    },
    "papermill": {
     "duration": 0.03252,
     "end_time": "2024-10-25T08:28:29.407986",
     "exception": false,
     "start_time": "2024-10-25T08:28:29.375466",
     "status": "completed"
    },
    "tags": []
   },
   "outputs": [
    {
     "data": {
      "text/plain": [
       "PaymentMethod\n",
       "Electronic check             1907\n",
       "Mailed check                 1268\n",
       "Bank transfer (automatic)    1235\n",
       "Credit card (automatic)      1215\n",
       "Name: count, dtype: int64"
      ]
     },
     "execution_count": 17,
     "metadata": {},
     "output_type": "execute_result"
    }
   ],
   "source": [
    "X_train['PaymentMethod'].value_counts()"
   ]
  },
  {
   "cell_type": "code",
   "execution_count": 18,
   "id": "59621f5f",
   "metadata": {
    "execution": {
     "iopub.execute_input": "2024-10-25T08:28:29.450719Z",
     "iopub.status.busy": "2024-10-25T08:28:29.449983Z",
     "iopub.status.idle": "2024-10-25T08:28:29.715689Z",
     "shell.execute_reply": "2024-10-25T08:28:29.714465Z"
    },
    "papermill": {
     "duration": 0.289953,
     "end_time": "2024-10-25T08:28:29.718547",
     "exception": false,
     "start_time": "2024-10-25T08:28:29.428594",
     "status": "completed"
    },
    "tags": []
   },
   "outputs": [
    {
     "data": {
      "text/plain": [
       "<Axes: xlabel='PaymentMethod', ylabel='count'>"
      ]
     },
     "execution_count": 18,
     "metadata": {},
     "output_type": "execute_result"
    },
    {
     "data": {
      "image/png": "[encoded data removed]",
      "text/plain": [
       "<Figure size 640x480 with 1 Axes>"
      ]
     },
     "metadata": {},
     "output_type": "display_data"
    }
   ],
   "source": [
    "sns.countplot(X_train, x='PaymentMethod', hue='gender')"
   ]
  },
  {
   "cell_type": "markdown",
   "id": "5c8b2f3b",
   "metadata": {
    "papermill": {
     "duration": 0.021158,
     "end_time": "2024-10-25T08:28:29.761548",
     "exception": false,
     "start_time": "2024-10-25T08:28:29.740390",
     "status": "completed"
    },
    "tags": []
   },
   "source": [
    "#### Payment methods are nearly same still most of people prefer electronic check"
   ]
  },
  {
   "cell_type": "code",
   "execution_count": 19,
   "id": "ffb3e59d",
   "metadata": {
    "execution": {
     "iopub.execute_input": "2024-10-25T08:28:29.806521Z",
     "iopub.status.busy": "2024-10-25T08:28:29.805848Z",
     "iopub.status.idle": "2024-10-25T08:28:30.039590Z",
     "shell.execute_reply": "2024-10-25T08:28:30.038422Z"
    },
    "papermill": {
     "duration": 0.259021,
     "end_time": "2024-10-25T08:28:30.042141",
     "exception": false,
     "start_time": "2024-10-25T08:28:29.783120",
     "status": "completed"
    },
    "tags": []
   },
   "outputs": [
    {
     "data": {
      "text/plain": [
       "<Axes: xlabel='Churn', ylabel='count'>"
      ]
     },
     "execution_count": 19,
     "metadata": {},
     "output_type": "execute_result"
    },
    {
     "data": {
      "image/png": "[encoded data removed]",
      "text/plain": [
       "<Figure size 640x480 with 1 Axes>"
      ]
     },
     "metadata": {},
     "output_type": "display_data"
    }
   ],
   "source": [
    "## lets see if the churn data is balanced or not\n",
    "sns.countplot(data, x='Churn', hue='gender')"
   ]
  },
  {
   "cell_type": "markdown",
   "id": "f49ef65b",
   "metadata": {
    "papermill": {
     "duration": 0.021651,
     "end_time": "2024-10-25T08:28:30.085507",
     "exception": false,
     "start_time": "2024-10-25T08:28:30.063856",
     "status": "completed"
    },
    "tags": []
   },
   "source": [
    "### Hmmm... Data is quiet Imbalanced\n",
    "As amount of churned customers is quite less as compred to customers not churned"
   ]
  },
  {
   "cell_type": "code",
   "execution_count": 20,
   "id": "14fcc75a",
   "metadata": {
    "execution": {
     "iopub.execute_input": "2024-10-25T08:28:30.131520Z",
     "iopub.status.busy": "2024-10-25T08:28:30.131074Z",
     "iopub.status.idle": "2024-10-25T08:28:30.151668Z",
     "shell.execute_reply": "2024-10-25T08:28:30.150565Z"
    },
    "papermill": {
     "duration": 0.046997,
     "end_time": "2024-10-25T08:28:30.153840",
     "exception": false,
     "start_time": "2024-10-25T08:28:30.106843",
     "status": "completed"
    },
    "tags": []
   },
   "outputs": [
    {
     "data": {
      "text/html": [
       "<div>\n",
       "<style scoped>\n",
       "    .dataframe tbody tr th:only-of-type {\n",
       "        vertical-align: middle;\n",
       "    }\n",
       "\n",
       "    .dataframe tbody tr th {\n",
       "        vertical-align: top;\n",
       "    }\n",
       "\n",
       "    .dataframe thead th {\n",
       "        text-align: right;\n",
       "    }\n",
       "</style>\n",
       "<table border=\"1\" class=\"dataframe\">\n",
       "  <thead>\n",
       "    <tr style=\"text-align: right;\">\n",
       "      <th></th>\n",
       "      <th>gender</th>\n",
       "      <th>SeniorCitizen</th>\n",
       "      <th>Partner</th>\n",
       "      <th>Dependents</th>\n",
       "      <th>tenure</th>\n",
       "      <th>PhoneService</th>\n",
       "      <th>MultipleLines</th>\n",
       "      <th>InternetService</th>\n",
       "      <th>OnlineSecurity</th>\n",
       "      <th>OnlineBackup</th>\n",
       "      <th>DeviceProtection</th>\n",
       "      <th>TechSupport</th>\n",
       "      <th>StreamingTV</th>\n",
       "      <th>StreamingMovies</th>\n",
       "      <th>Contract</th>\n",
       "      <th>PaperlessBilling</th>\n",
       "      <th>PaymentMethod</th>\n",
       "      <th>MonthlyCharges</th>\n",
       "      <th>TotalCharges</th>\n",
       "    </tr>\n",
       "  </thead>\n",
       "  <tbody>\n",
       "    <tr>\n",
       "      <th>1413</th>\n",
       "      <td>Male</td>\n",
       "      <td>0</td>\n",
       "      <td>Yes</td>\n",
       "      <td>Yes</td>\n",
       "      <td>65</td>\n",
       "      <td>Yes</td>\n",
       "      <td>Yes</td>\n",
       "      <td>Fiber optic</td>\n",
       "      <td>Yes</td>\n",
       "      <td>Yes</td>\n",
       "      <td>Yes</td>\n",
       "      <td>Yes</td>\n",
       "      <td>No</td>\n",
       "      <td>No</td>\n",
       "      <td>Two year</td>\n",
       "      <td>No</td>\n",
       "      <td>Credit card (automatic)</td>\n",
       "      <td>94.55</td>\n",
       "      <td>6078.75</td>\n",
       "    </tr>\n",
       "    <tr>\n",
       "      <th>7003</th>\n",
       "      <td>Male</td>\n",
       "      <td>0</td>\n",
       "      <td>No</td>\n",
       "      <td>No</td>\n",
       "      <td>26</td>\n",
       "      <td>No</td>\n",
       "      <td>No phone service</td>\n",
       "      <td>DSL</td>\n",
       "      <td>No</td>\n",
       "      <td>No</td>\n",
       "      <td>Yes</td>\n",
       "      <td>Yes</td>\n",
       "      <td>No</td>\n",
       "      <td>No</td>\n",
       "      <td>Month-to-month</td>\n",
       "      <td>No</td>\n",
       "      <td>Electronic check</td>\n",
       "      <td>35.75</td>\n",
       "      <td>1022.50</td>\n",
       "    </tr>\n",
       "    <tr>\n",
       "      <th>3355</th>\n",
       "      <td>Female</td>\n",
       "      <td>0</td>\n",
       "      <td>Yes</td>\n",
       "      <td>No</td>\n",
       "      <td>68</td>\n",
       "      <td>Yes</td>\n",
       "      <td>Yes</td>\n",
       "      <td>Fiber optic</td>\n",
       "      <td>No</td>\n",
       "      <td>Yes</td>\n",
       "      <td>Yes</td>\n",
       "      <td>Yes</td>\n",
       "      <td>No</td>\n",
       "      <td>No</td>\n",
       "      <td>Two year</td>\n",
       "      <td>No</td>\n",
       "      <td>Credit card (automatic)</td>\n",
       "      <td>90.20</td>\n",
       "      <td>6297.65</td>\n",
       "    </tr>\n",
       "    <tr>\n",
       "      <th>4494</th>\n",
       "      <td>Male</td>\n",
       "      <td>0</td>\n",
       "      <td>No</td>\n",
       "      <td>No</td>\n",
       "      <td>3</td>\n",
       "      <td>Yes</td>\n",
       "      <td>No</td>\n",
       "      <td>Fiber optic</td>\n",
       "      <td>No</td>\n",
       "      <td>Yes</td>\n",
       "      <td>No</td>\n",
       "      <td>No</td>\n",
       "      <td>No</td>\n",
       "      <td>Yes</td>\n",
       "      <td>Month-to-month</td>\n",
       "      <td>No</td>\n",
       "      <td>Electronic check</td>\n",
       "      <td>84.30</td>\n",
       "      <td>235.05</td>\n",
       "    </tr>\n",
       "    <tr>\n",
       "      <th>3541</th>\n",
       "      <td>Female</td>\n",
       "      <td>0</td>\n",
       "      <td>Yes</td>\n",
       "      <td>No</td>\n",
       "      <td>49</td>\n",
       "      <td>No</td>\n",
       "      <td>No phone service</td>\n",
       "      <td>DSL</td>\n",
       "      <td>Yes</td>\n",
       "      <td>No</td>\n",
       "      <td>No</td>\n",
       "      <td>No</td>\n",
       "      <td>Yes</td>\n",
       "      <td>No</td>\n",
       "      <td>Month-to-month</td>\n",
       "      <td>No</td>\n",
       "      <td>Bank transfer (automatic)</td>\n",
       "      <td>40.65</td>\n",
       "      <td>2070.75</td>\n",
       "    </tr>\n",
       "  </tbody>\n",
       "</table>\n",
       "</div>"
      ],
      "text/plain": [
       "      gender  SeniorCitizen Partner Dependents  tenure PhoneService  \\\n",
       "1413    Male              0     Yes        Yes      65          Yes   \n",
       "7003    Male              0      No         No      26           No   \n",
       "3355  Female              0     Yes         No      68          Yes   \n",
       "4494    Male              0      No         No       3          Yes   \n",
       "3541  Female              0     Yes         No      49           No   \n",
       "\n",
       "         MultipleLines InternetService OnlineSecurity OnlineBackup  \\\n",
       "1413               Yes     Fiber optic            Yes          Yes   \n",
       "7003  No phone service             DSL             No           No   \n",
       "3355               Yes     Fiber optic             No          Yes   \n",
       "4494                No     Fiber optic             No          Yes   \n",
       "3541  No phone service             DSL            Yes           No   \n",
       "\n",
       "     DeviceProtection TechSupport StreamingTV StreamingMovies        Contract  \\\n",
       "1413              Yes         Yes          No              No        Two year   \n",
       "7003              Yes         Yes          No              No  Month-to-month   \n",
       "3355              Yes         Yes          No              No        Two year   \n",
       "4494               No          No          No             Yes  Month-to-month   \n",
       "3541               No          No         Yes              No  Month-to-month   \n",
       "\n",
       "     PaperlessBilling              PaymentMethod  MonthlyCharges  TotalCharges  \n",
       "1413               No    Credit card (automatic)           94.55       6078.75  \n",
       "7003               No           Electronic check           35.75       1022.50  \n",
       "3355               No    Credit card (automatic)           90.20       6297.65  \n",
       "4494               No           Electronic check           84.30        235.05  \n",
       "3541               No  Bank transfer (automatic)           40.65       2070.75  "
      ]
     },
     "execution_count": 20,
     "metadata": {},
     "output_type": "execute_result"
    }
   ],
   "source": [
    "X_train.head()"
   ]
  },
  {
   "cell_type": "code",
   "execution_count": 21,
   "id": "1a33f26b",
   "metadata": {
    "execution": {
     "iopub.execute_input": "2024-10-25T08:28:30.199374Z",
     "iopub.status.busy": "2024-10-25T08:28:30.198936Z",
     "iopub.status.idle": "2024-10-25T08:28:30.429979Z",
     "shell.execute_reply": "2024-10-25T08:28:30.428936Z"
    },
    "papermill": {
     "duration": 0.256443,
     "end_time": "2024-10-25T08:28:30.432343",
     "exception": false,
     "start_time": "2024-10-25T08:28:30.175900",
     "status": "completed"
    },
    "tags": []
   },
   "outputs": [
    {
     "data": {
      "text/plain": [
       "<Axes: xlabel='Partner', ylabel='count'>"
      ]
     },
     "execution_count": 21,
     "metadata": {},
     "output_type": "execute_result"
    },
    {
     "data": {
      "image/png": "[encoded data removed]",
      "text/plain": [
       "<Figure size 640x480 with 1 Axes>"
      ]
     },
     "metadata": {},
     "output_type": "display_data"
    }
   ],
   "source": [
    "## Having a dependent or partner would affect Churn or not?\n",
    "sns.countplot(X_train, x='Partner', hue=y_train)"
   ]
  },
  {
   "cell_type": "markdown",
   "id": "a78ec344",
   "metadata": {
    "papermill": {
     "duration": 0.022193,
     "end_time": "2024-10-25T08:28:30.476740",
     "exception": false,
     "start_time": "2024-10-25T08:28:30.454547",
     "status": "completed"
    },
    "tags": []
   },
   "source": [
    "#### People not having partners are likely to Churn"
   ]
  },
  {
   "cell_type": "code",
   "execution_count": 22,
   "id": "22a50f9c",
   "metadata": {
    "execution": {
     "iopub.execute_input": "2024-10-25T08:28:30.523238Z",
     "iopub.status.busy": "2024-10-25T08:28:30.522281Z",
     "iopub.status.idle": "2024-10-25T08:28:30.759445Z",
     "shell.execute_reply": "2024-10-25T08:28:30.758212Z"
    },
    "papermill": {
     "duration": 0.262953,
     "end_time": "2024-10-25T08:28:30.761840",
     "exception": false,
     "start_time": "2024-10-25T08:28:30.498887",
     "status": "completed"
    },
    "tags": []
   },
   "outputs": [
    {
     "data": {
      "text/plain": [
       "<Axes: xlabel='Dependents', ylabel='count'>"
      ]
     },
     "execution_count": 22,
     "metadata": {},
     "output_type": "execute_result"
    },
    {
     "data": {
      "image/png": "[encoded data removed]",
      "text/plain": [
       "<Figure size 640x480 with 1 Axes>"
      ]
     },
     "metadata": {},
     "output_type": "display_data"
    }
   ],
   "source": [
    "sns.countplot(X_train, x='Dependents', hue=y_train)"
   ]
  },
  {
   "cell_type": "markdown",
   "id": "b6e81de1",
   "metadata": {
    "papermill": {
     "duration": 0.02225,
     "end_time": "2024-10-25T08:28:30.806802",
     "exception": false,
     "start_time": "2024-10-25T08:28:30.784552",
     "status": "completed"
    },
    "tags": []
   },
   "source": [
    "#### People with No dependents are more likely to churn"
   ]
  },
  {
   "cell_type": "code",
   "execution_count": 23,
   "id": "d1251031",
   "metadata": {
    "execution": {
     "iopub.execute_input": "2024-10-25T08:28:30.853439Z",
     "iopub.status.busy": "2024-10-25T08:28:30.853003Z",
     "iopub.status.idle": "2024-10-25T08:28:30.872694Z",
     "shell.execute_reply": "2024-10-25T08:28:30.871488Z"
    },
    "papermill": {
     "duration": 0.045596,
     "end_time": "2024-10-25T08:28:30.874896",
     "exception": false,
     "start_time": "2024-10-25T08:28:30.829300",
     "status": "completed"
    },
    "tags": []
   },
   "outputs": [
    {
     "data": {
      "text/html": [
       "<div>\n",
       "<style scoped>\n",
       "    .dataframe tbody tr th:only-of-type {\n",
       "        vertical-align: middle;\n",
       "    }\n",
       "\n",
       "    .dataframe tbody tr th {\n",
       "        vertical-align: top;\n",
       "    }\n",
       "\n",
       "    .dataframe thead th {\n",
       "        text-align: right;\n",
       "    }\n",
       "</style>\n",
       "<table border=\"1\" class=\"dataframe\">\n",
       "  <thead>\n",
       "    <tr style=\"text-align: right;\">\n",
       "      <th></th>\n",
       "      <th>gender</th>\n",
       "      <th>SeniorCitizen</th>\n",
       "      <th>Partner</th>\n",
       "      <th>Dependents</th>\n",
       "      <th>tenure</th>\n",
       "      <th>PhoneService</th>\n",
       "      <th>MultipleLines</th>\n",
       "      <th>InternetService</th>\n",
       "      <th>OnlineSecurity</th>\n",
       "      <th>OnlineBackup</th>\n",
       "      <th>DeviceProtection</th>\n",
       "      <th>TechSupport</th>\n",
       "      <th>StreamingTV</th>\n",
       "      <th>StreamingMovies</th>\n",
       "      <th>Contract</th>\n",
       "      <th>PaperlessBilling</th>\n",
       "      <th>PaymentMethod</th>\n",
       "      <th>MonthlyCharges</th>\n",
       "      <th>TotalCharges</th>\n",
       "    </tr>\n",
       "  </thead>\n",
       "  <tbody>\n",
       "    <tr>\n",
       "      <th>1413</th>\n",
       "      <td>Male</td>\n",
       "      <td>0</td>\n",
       "      <td>Yes</td>\n",
       "      <td>Yes</td>\n",
       "      <td>65</td>\n",
       "      <td>Yes</td>\n",
       "      <td>Yes</td>\n",
       "      <td>Fiber optic</td>\n",
       "      <td>Yes</td>\n",
       "      <td>Yes</td>\n",
       "      <td>Yes</td>\n",
       "      <td>Yes</td>\n",
       "      <td>No</td>\n",
       "      <td>No</td>\n",
       "      <td>Two year</td>\n",
       "      <td>No</td>\n",
       "      <td>Credit card (automatic)</td>\n",
       "      <td>94.55</td>\n",
       "      <td>6078.75</td>\n",
       "    </tr>\n",
       "    <tr>\n",
       "      <th>7003</th>\n",
       "      <td>Male</td>\n",
       "      <td>0</td>\n",
       "      <td>No</td>\n",
       "      <td>No</td>\n",
       "      <td>26</td>\n",
       "      <td>No</td>\n",
       "      <td>No phone service</td>\n",
       "      <td>DSL</td>\n",
       "      <td>No</td>\n",
       "      <td>No</td>\n",
       "      <td>Yes</td>\n",
       "      <td>Yes</td>\n",
       "      <td>No</td>\n",
       "      <td>No</td>\n",
       "      <td>Month-to-month</td>\n",
       "      <td>No</td>\n",
       "      <td>Electronic check</td>\n",
       "      <td>35.75</td>\n",
       "      <td>1022.50</td>\n",
       "    </tr>\n",
       "    <tr>\n",
       "      <th>3355</th>\n",
       "      <td>Female</td>\n",
       "      <td>0</td>\n",
       "      <td>Yes</td>\n",
       "      <td>No</td>\n",
       "      <td>68</td>\n",
       "      <td>Yes</td>\n",
       "      <td>Yes</td>\n",
       "      <td>Fiber optic</td>\n",
       "      <td>No</td>\n",
       "      <td>Yes</td>\n",
       "      <td>Yes</td>\n",
       "      <td>Yes</td>\n",
       "      <td>No</td>\n",
       "      <td>No</td>\n",
       "      <td>Two year</td>\n",
       "      <td>No</td>\n",
       "      <td>Credit card (automatic)</td>\n",
       "      <td>90.20</td>\n",
       "      <td>6297.65</td>\n",
       "    </tr>\n",
       "    <tr>\n",
       "      <th>4494</th>\n",
       "      <td>Male</td>\n",
       "      <td>0</td>\n",
       "      <td>No</td>\n",
       "      <td>No</td>\n",
       "      <td>3</td>\n",
       "      <td>Yes</td>\n",
       "      <td>No</td>\n",
       "      <td>Fiber optic</td>\n",
       "      <td>No</td>\n",
       "      <td>Yes</td>\n",
       "      <td>No</td>\n",
       "      <td>No</td>\n",
       "      <td>No</td>\n",
       "      <td>Yes</td>\n",
       "      <td>Month-to-month</td>\n",
       "      <td>No</td>\n",
       "      <td>Electronic check</td>\n",
       "      <td>84.30</td>\n",
       "      <td>235.05</td>\n",
       "    </tr>\n",
       "    <tr>\n",
       "      <th>3541</th>\n",
       "      <td>Female</td>\n",
       "      <td>0</td>\n",
       "      <td>Yes</td>\n",
       "      <td>No</td>\n",
       "      <td>49</td>\n",
       "      <td>No</td>\n",
       "      <td>No phone service</td>\n",
       "      <td>DSL</td>\n",
       "      <td>Yes</td>\n",
       "      <td>No</td>\n",
       "      <td>No</td>\n",
       "      <td>No</td>\n",
       "      <td>Yes</td>\n",
       "      <td>No</td>\n",
       "      <td>Month-to-month</td>\n",
       "      <td>No</td>\n",
       "      <td>Bank transfer (automatic)</td>\n",
       "      <td>40.65</td>\n",
       "      <td>2070.75</td>\n",
       "    </tr>\n",
       "  </tbody>\n",
       "</table>\n",
       "</div>"
      ],
      "text/plain": [
       "      gender  SeniorCitizen Partner Dependents  tenure PhoneService  \\\n",
       "1413    Male              0     Yes        Yes      65          Yes   \n",
       "7003    Male              0      No         No      26           No   \n",
       "3355  Female              0     Yes         No      68          Yes   \n",
       "4494    Male              0      No         No       3          Yes   \n",
       "3541  Female              0     Yes         No      49           No   \n",
       "\n",
       "         MultipleLines InternetService OnlineSecurity OnlineBackup  \\\n",
       "1413               Yes     Fiber optic            Yes          Yes   \n",
       "7003  No phone service             DSL             No           No   \n",
       "3355               Yes     Fiber optic             No          Yes   \n",
       "4494                No     Fiber optic             No          Yes   \n",
       "3541  No phone service             DSL            Yes           No   \n",
       "\n",
       "     DeviceProtection TechSupport StreamingTV StreamingMovies        Contract  \\\n",
       "1413              Yes         Yes          No              No        Two year   \n",
       "7003              Yes         Yes          No              No  Month-to-month   \n",
       "3355              Yes         Yes          No              No        Two year   \n",
       "4494               No          No          No             Yes  Month-to-month   \n",
       "3541               No          No         Yes              No  Month-to-month   \n",
       "\n",
       "     PaperlessBilling              PaymentMethod  MonthlyCharges  TotalCharges  \n",
       "1413               No    Credit card (automatic)           94.55       6078.75  \n",
       "7003               No           Electronic check           35.75       1022.50  \n",
       "3355               No    Credit card (automatic)           90.20       6297.65  \n",
       "4494               No           Electronic check           84.30        235.05  \n",
       "3541               No  Bank transfer (automatic)           40.65       2070.75  "
      ]
     },
     "execution_count": 23,
     "metadata": {},
     "output_type": "execute_result"
    }
   ],
   "source": [
    "X_train.head()"
   ]
  },
  {
   "cell_type": "code",
   "execution_count": 24,
   "id": "a1d5035a",
   "metadata": {
    "execution": {
     "iopub.execute_input": "2024-10-25T08:28:30.923734Z",
     "iopub.status.busy": "2024-10-25T08:28:30.922775Z",
     "iopub.status.idle": "2024-10-25T08:28:30.932541Z",
     "shell.execute_reply": "2024-10-25T08:28:30.931336Z"
    },
    "papermill": {
     "duration": 0.037071,
     "end_time": "2024-10-25T08:28:30.934745",
     "exception": false,
     "start_time": "2024-10-25T08:28:30.897674",
     "status": "completed"
    },
    "tags": []
   },
   "outputs": [
    {
     "data": {
      "text/plain": [
       "SeniorCitizen\n",
       "0    4715\n",
       "1     910\n",
       "Name: count, dtype: int64"
      ]
     },
     "execution_count": 24,
     "metadata": {},
     "output_type": "execute_result"
    }
   ],
   "source": [
    "## Lets take the count of senior citizens \n",
    "X_train['SeniorCitizen'].value_counts()"
   ]
  },
  {
   "cell_type": "code",
   "execution_count": 25,
   "id": "5c79e95f",
   "metadata": {
    "execution": {
     "iopub.execute_input": "2024-10-25T08:28:30.982472Z",
     "iopub.status.busy": "2024-10-25T08:28:30.981762Z",
     "iopub.status.idle": "2024-10-25T08:28:31.211379Z",
     "shell.execute_reply": "2024-10-25T08:28:31.210340Z"
    },
    "papermill": {
     "duration": 0.255932,
     "end_time": "2024-10-25T08:28:31.213626",
     "exception": false,
     "start_time": "2024-10-25T08:28:30.957694",
     "status": "completed"
    },
    "tags": []
   },
   "outputs": [
    {
     "data": {
      "text/plain": [
       "<Axes: xlabel='gender', ylabel='count'>"
      ]
     },
     "execution_count": 25,
     "metadata": {},
     "output_type": "execute_result"
    },
    {
     "data": {
      "image/png": "[encoded data removed]",
      "text/plain": [
       "<Figure size 640x480 with 1 Axes>"
      ]
     },
     "metadata": {},
     "output_type": "display_data"
    }
   ],
   "source": [
    "sns.countplot(X_train, x='gender', hue='SeniorCitizen')"
   ]
  },
  {
   "cell_type": "markdown",
   "id": "8b652dbc",
   "metadata": {
    "papermill": {
     "duration": 0.022748,
     "end_time": "2024-10-25T08:28:31.259659",
     "exception": false,
     "start_time": "2024-10-25T08:28:31.236911",
     "status": "completed"
    },
    "tags": []
   },
   "source": [
    "#### Equal males and feamles for Senior citizens too"
   ]
  },
  {
   "cell_type": "code",
   "execution_count": 26,
   "id": "8c47ac56",
   "metadata": {
    "execution": {
     "iopub.execute_input": "2024-10-25T08:28:31.307846Z",
     "iopub.status.busy": "2024-10-25T08:28:31.307002Z",
     "iopub.status.idle": "2024-10-25T08:28:31.549705Z",
     "shell.execute_reply": "2024-10-25T08:28:31.548673Z"
    },
    "papermill": {
     "duration": 0.269053,
     "end_time": "2024-10-25T08:28:31.551768",
     "exception": false,
     "start_time": "2024-10-25T08:28:31.282715",
     "status": "completed"
    },
    "tags": []
   },
   "outputs": [
    {
     "data": {
      "text/plain": [
       "<Axes: xlabel='Churn', ylabel='count'>"
      ]
     },
     "execution_count": 26,
     "metadata": {},
     "output_type": "execute_result"
    },
    {
     "data": {
      "image/png": "[encoded data removed]",
      "text/plain": [
       "<Figure size 640x480 with 1 Axes>"
      ]
     },
     "metadata": {},
     "output_type": "display_data"
    }
   ],
   "source": [
    "sns.countplot(X_train, x=y_train, hue='SeniorCitizen')"
   ]
  },
  {
   "cell_type": "markdown",
   "id": "3a6c30e2",
   "metadata": {
    "papermill": {
     "duration": 0.023692,
     "end_time": "2024-10-25T08:28:31.599313",
     "exception": false,
     "start_time": "2024-10-25T08:28:31.575621",
     "status": "completed"
    },
    "tags": []
   },
   "source": [
    "#### Senior Citizens are more likely to Churn"
   ]
  },
  {
   "cell_type": "code",
   "execution_count": 27,
   "id": "7b586b60",
   "metadata": {
    "execution": {
     "iopub.execute_input": "2024-10-25T08:28:31.648597Z",
     "iopub.status.busy": "2024-10-25T08:28:31.647619Z",
     "iopub.status.idle": "2024-10-25T08:28:31.896422Z",
     "shell.execute_reply": "2024-10-25T08:28:31.895376Z"
    },
    "papermill": {
     "duration": 0.2757,
     "end_time": "2024-10-25T08:28:31.898551",
     "exception": false,
     "start_time": "2024-10-25T08:28:31.622851",
     "status": "completed"
    },
    "tags": []
   },
   "outputs": [
    {
     "data": {
      "text/plain": [
       "<Axes: xlabel='PhoneService', ylabel='count'>"
      ]
     },
     "execution_count": 27,
     "metadata": {},
     "output_type": "execute_result"
    },
    {
     "data": {
      "image/png": "[encoded data removed]",
      "text/plain": [
       "<Figure size 640x480 with 1 Axes>"
      ]
     },
     "metadata": {},
     "output_type": "display_data"
    }
   ],
   "source": [
    "sns.countplot(X_train, x='PhoneService', hue=y_train)"
   ]
  },
  {
   "cell_type": "markdown",
   "id": "174067d9",
   "metadata": {
    "papermill": {
     "duration": 0.023775,
     "end_time": "2024-10-25T08:28:31.947216",
     "exception": false,
     "start_time": "2024-10-25T08:28:31.923441",
     "status": "completed"
    },
    "tags": []
   },
   "source": [
    "#### Most of the customers who use Phone Services Churn"
   ]
  },
  {
   "cell_type": "code",
   "execution_count": 28,
   "id": "50a2f080",
   "metadata": {
    "execution": {
     "iopub.execute_input": "2024-10-25T08:28:31.997761Z",
     "iopub.status.busy": "2024-10-25T08:28:31.996691Z",
     "iopub.status.idle": "2024-10-25T08:28:32.287681Z",
     "shell.execute_reply": "2024-10-25T08:28:32.286644Z"
    },
    "papermill": {
     "duration": 0.318581,
     "end_time": "2024-10-25T08:28:32.289789",
     "exception": false,
     "start_time": "2024-10-25T08:28:31.971208",
     "status": "completed"
    },
    "tags": []
   },
   "outputs": [
    {
     "data": {
      "text/plain": [
       "<Axes: xlabel='MultipleLines', ylabel='count'>"
      ]
     },
     "execution_count": 28,
     "metadata": {},
     "output_type": "execute_result"
    },
    {
     "data": {
      "image/png": "[encoded data removed]",
      "text/plain": [
       "<Figure size 640x480 with 1 Axes>"
      ]
     },
     "metadata": {},
     "output_type": "display_data"
    }
   ],
   "source": [
    "sns.countplot(X_train, x='MultipleLines', hue=y_train)"
   ]
  },
  {
   "cell_type": "code",
   "execution_count": 29,
   "id": "b108a478",
   "metadata": {
    "execution": {
     "iopub.execute_input": "2024-10-25T08:28:32.391216Z",
     "iopub.status.busy": "2024-10-25T08:28:32.390783Z",
     "iopub.status.idle": "2024-10-25T08:28:32.410101Z",
     "shell.execute_reply": "2024-10-25T08:28:32.409158Z"
    },
    "papermill": {
     "duration": 0.097789,
     "end_time": "2024-10-25T08:28:32.412193",
     "exception": false,
     "start_time": "2024-10-25T08:28:32.314404",
     "status": "completed"
    },
    "tags": []
   },
   "outputs": [
    {
     "data": {
      "text/html": [
       "<div>\n",
       "<style scoped>\n",
       "    .dataframe tbody tr th:only-of-type {\n",
       "        vertical-align: middle;\n",
       "    }\n",
       "\n",
       "    .dataframe tbody tr th {\n",
       "        vertical-align: top;\n",
       "    }\n",
       "\n",
       "    .dataframe thead th {\n",
       "        text-align: right;\n",
       "    }\n",
       "</style>\n",
       "<table border=\"1\" class=\"dataframe\">\n",
       "  <thead>\n",
       "    <tr style=\"text-align: right;\">\n",
       "      <th></th>\n",
       "      <th>gender</th>\n",
       "      <th>SeniorCitizen</th>\n",
       "      <th>Partner</th>\n",
       "      <th>Dependents</th>\n",
       "      <th>tenure</th>\n",
       "      <th>PhoneService</th>\n",
       "      <th>MultipleLines</th>\n",
       "      <th>InternetService</th>\n",
       "      <th>OnlineSecurity</th>\n",
       "      <th>OnlineBackup</th>\n",
       "      <th>DeviceProtection</th>\n",
       "      <th>TechSupport</th>\n",
       "      <th>StreamingTV</th>\n",
       "      <th>StreamingMovies</th>\n",
       "      <th>Contract</th>\n",
       "      <th>PaperlessBilling</th>\n",
       "      <th>PaymentMethod</th>\n",
       "      <th>MonthlyCharges</th>\n",
       "      <th>TotalCharges</th>\n",
       "    </tr>\n",
       "  </thead>\n",
       "  <tbody>\n",
       "    <tr>\n",
       "      <th>1413</th>\n",
       "      <td>Male</td>\n",
       "      <td>0</td>\n",
       "      <td>Yes</td>\n",
       "      <td>Yes</td>\n",
       "      <td>65</td>\n",
       "      <td>Yes</td>\n",
       "      <td>Yes</td>\n",
       "      <td>Fiber optic</td>\n",
       "      <td>Yes</td>\n",
       "      <td>Yes</td>\n",
       "      <td>Yes</td>\n",
       "      <td>Yes</td>\n",
       "      <td>No</td>\n",
       "      <td>No</td>\n",
       "      <td>Two year</td>\n",
       "      <td>No</td>\n",
       "      <td>Credit card (automatic)</td>\n",
       "      <td>94.55</td>\n",
       "      <td>6078.75</td>\n",
       "    </tr>\n",
       "    <tr>\n",
       "      <th>7003</th>\n",
       "      <td>Male</td>\n",
       "      <td>0</td>\n",
       "      <td>No</td>\n",
       "      <td>No</td>\n",
       "      <td>26</td>\n",
       "      <td>No</td>\n",
       "      <td>No phone service</td>\n",
       "      <td>DSL</td>\n",
       "      <td>No</td>\n",
       "      <td>No</td>\n",
       "      <td>Yes</td>\n",
       "      <td>Yes</td>\n",
       "      <td>No</td>\n",
       "      <td>No</td>\n",
       "      <td>Month-to-month</td>\n",
       "      <td>No</td>\n",
       "      <td>Electronic check</td>\n",
       "      <td>35.75</td>\n",
       "      <td>1022.50</td>\n",
       "    </tr>\n",
       "    <tr>\n",
       "      <th>3355</th>\n",
       "      <td>Female</td>\n",
       "      <td>0</td>\n",
       "      <td>Yes</td>\n",
       "      <td>No</td>\n",
       "      <td>68</td>\n",
       "      <td>Yes</td>\n",
       "      <td>Yes</td>\n",
       "      <td>Fiber optic</td>\n",
       "      <td>No</td>\n",
       "      <td>Yes</td>\n",
       "      <td>Yes</td>\n",
       "      <td>Yes</td>\n",
       "      <td>No</td>\n",
       "      <td>No</td>\n",
       "      <td>Two year</td>\n",
       "      <td>No</td>\n",
       "      <td>Credit card (automatic)</td>\n",
       "      <td>90.20</td>\n",
       "      <td>6297.65</td>\n",
       "    </tr>\n",
       "    <tr>\n",
       "      <th>4494</th>\n",
       "      <td>Male</td>\n",
       "      <td>0</td>\n",
       "      <td>No</td>\n",
       "      <td>No</td>\n",
       "      <td>3</td>\n",
       "      <td>Yes</td>\n",
       "      <td>No</td>\n",
       "      <td>Fiber optic</td>\n",
       "      <td>No</td>\n",
       "      <td>Yes</td>\n",
       "      <td>No</td>\n",
       "      <td>No</td>\n",
       "      <td>No</td>\n",
       "      <td>Yes</td>\n",
       "      <td>Month-to-month</td>\n",
       "      <td>No</td>\n",
       "      <td>Electronic check</td>\n",
       "      <td>84.30</td>\n",
       "      <td>235.05</td>\n",
       "    </tr>\n",
       "    <tr>\n",
       "      <th>3541</th>\n",
       "      <td>Female</td>\n",
       "      <td>0</td>\n",
       "      <td>Yes</td>\n",
       "      <td>No</td>\n",
       "      <td>49</td>\n",
       "      <td>No</td>\n",
       "      <td>No phone service</td>\n",
       "      <td>DSL</td>\n",
       "      <td>Yes</td>\n",
       "      <td>No</td>\n",
       "      <td>No</td>\n",
       "      <td>No</td>\n",
       "      <td>Yes</td>\n",
       "      <td>No</td>\n",
       "      <td>Month-to-month</td>\n",
       "      <td>No</td>\n",
       "      <td>Bank transfer (automatic)</td>\n",
       "      <td>40.65</td>\n",
       "      <td>2070.75</td>\n",
       "    </tr>\n",
       "  </tbody>\n",
       "</table>\n",
       "</div>"
      ],
      "text/plain": [
       "      gender  SeniorCitizen Partner Dependents  tenure PhoneService  \\\n",
       "1413    Male              0     Yes        Yes      65          Yes   \n",
       "7003    Male              0      No         No      26           No   \n",
       "3355  Female              0     Yes         No      68          Yes   \n",
       "4494    Male              0      No         No       3          Yes   \n",
       "3541  Female              0     Yes         No      49           No   \n",
       "\n",
       "         MultipleLines InternetService OnlineSecurity OnlineBackup  \\\n",
       "1413               Yes     Fiber optic            Yes          Yes   \n",
       "7003  No phone service             DSL             No           No   \n",
       "3355               Yes     Fiber optic             No          Yes   \n",
       "4494                No     Fiber optic             No          Yes   \n",
       "3541  No phone service             DSL            Yes           No   \n",
       "\n",
       "     DeviceProtection TechSupport StreamingTV StreamingMovies        Contract  \\\n",
       "1413              Yes         Yes          No              No        Two year   \n",
       "7003              Yes         Yes          No              No  Month-to-month   \n",
       "3355              Yes         Yes          No              No        Two year   \n",
       "4494               No          No          No             Yes  Month-to-month   \n",
       "3541               No          No         Yes              No  Month-to-month   \n",
       "\n",
       "     PaperlessBilling              PaymentMethod  MonthlyCharges  TotalCharges  \n",
       "1413               No    Credit card (automatic)           94.55       6078.75  \n",
       "7003               No           Electronic check           35.75       1022.50  \n",
       "3355               No    Credit card (automatic)           90.20       6297.65  \n",
       "4494               No           Electronic check           84.30        235.05  \n",
       "3541               No  Bank transfer (automatic)           40.65       2070.75  "
      ]
     },
     "execution_count": 29,
     "metadata": {},
     "output_type": "execute_result"
    }
   ],
   "source": [
    "X_train.head()"
   ]
  },
  {
   "cell_type": "code",
   "execution_count": 30,
   "id": "022aeb17",
   "metadata": {
    "execution": {
     "iopub.execute_input": "2024-10-25T08:28:32.467845Z",
     "iopub.status.busy": "2024-10-25T08:28:32.466564Z",
     "iopub.status.idle": "2024-10-25T08:28:32.701457Z",
     "shell.execute_reply": "2024-10-25T08:28:32.700423Z"
    },
    "papermill": {
     "duration": 0.266597,
     "end_time": "2024-10-25T08:28:32.703761",
     "exception": false,
     "start_time": "2024-10-25T08:28:32.437164",
     "status": "completed"
    },
    "tags": []
   },
   "outputs": [
    {
     "data": {
      "text/plain": [
       "<Axes: xlabel='InternetService', ylabel='count'>"
      ]
     },
     "execution_count": 30,
     "metadata": {},
     "output_type": "execute_result"
    },
    {
     "data": {
      "image/png": "[encoded data removed]",
      "text/plain": [
       "<Figure size 640x480 with 1 Axes>"
      ]
     },
     "metadata": {},
     "output_type": "display_data"
    }
   ],
   "source": [
    "sns.countplot(X_train, x='InternetService', hue=y_train)"
   ]
  },
  {
   "cell_type": "markdown",
   "id": "3b444063",
   "metadata": {
    "papermill": {
     "duration": 0.027087,
     "end_time": "2024-10-25T08:28:32.757207",
     "exception": false,
     "start_time": "2024-10-25T08:28:32.730120",
     "status": "completed"
    },
    "tags": []
   },
   "source": [
    "#### OOOOOO!!!! Most of the people who churned had used Fiber Optic"
   ]
  },
  {
   "cell_type": "code",
   "execution_count": 31,
   "id": "26713b93",
   "metadata": {
    "execution": {
     "iopub.execute_input": "2024-10-25T08:28:32.810579Z",
     "iopub.status.busy": "2024-10-25T08:28:32.810157Z",
     "iopub.status.idle": "2024-10-25T08:28:33.187005Z",
     "shell.execute_reply": "2024-10-25T08:28:33.185898Z"
    },
    "papermill": {
     "duration": 0.406309,
     "end_time": "2024-10-25T08:28:33.189185",
     "exception": false,
     "start_time": "2024-10-25T08:28:32.782876",
     "status": "completed"
    },
    "tags": []
   },
   "outputs": [
    {
     "data": {
      "text/plain": [
       "<Axes: xlabel='OnlineSecurity', ylabel='count'>"
      ]
     },
     "execution_count": 31,
     "metadata": {},
     "output_type": "execute_result"
    },
    {
     "data": {
      "image/png": "[encoded data removed]",
      "text/plain": [
       "<Figure size 640x480 with 1 Axes>"
      ]
     },
     "metadata": {},
     "output_type": "display_data"
    }
   ],
   "source": [
    "sns.countplot(X_train, x='OnlineSecurity', hue=y_train)"
   ]
  },
  {
   "cell_type": "markdown",
   "id": "6b56d374",
   "metadata": {
    "papermill": {
     "duration": 0.026592,
     "end_time": "2024-10-25T08:28:33.241638",
     "exception": false,
     "start_time": "2024-10-25T08:28:33.215046",
     "status": "completed"
    },
    "tags": []
   },
   "source": [
    "#### Wooa Most of the customers who churned are not using online security"
   ]
  },
  {
   "cell_type": "code",
   "execution_count": 32,
   "id": "40c56234",
   "metadata": {
    "execution": {
     "iopub.execute_input": "2024-10-25T08:28:33.296402Z",
     "iopub.status.busy": "2024-10-25T08:28:33.295959Z",
     "iopub.status.idle": "2024-10-25T08:28:33.519908Z",
     "shell.execute_reply": "2024-10-25T08:28:33.518891Z"
    },
    "papermill": {
     "duration": 0.254244,
     "end_time": "2024-10-25T08:28:33.522407",
     "exception": false,
     "start_time": "2024-10-25T08:28:33.268163",
     "status": "completed"
    },
    "tags": []
   },
   "outputs": [
    {
     "data": {
      "text/plain": [
       "<Axes: xlabel='OnlineBackup', ylabel='count'>"
      ]
     },
     "execution_count": 32,
     "metadata": {},
     "output_type": "execute_result"
    },
    {
     "data": {
      "image/png": "[encoded data removed]",
      "text/plain": [
       "<Figure size 640x480 with 1 Axes>"
      ]
     },
     "metadata": {},
     "output_type": "display_data"
    }
   ],
   "source": [
    "sns.countplot(X_train, x='OnlineBackup', hue=y_train)"
   ]
  },
  {
   "cell_type": "markdown",
   "id": "2695e071",
   "metadata": {
    "papermill": {
     "duration": 0.026778,
     "end_time": "2024-10-25T08:28:33.576142",
     "exception": false,
     "start_time": "2024-10-25T08:28:33.549364",
     "status": "completed"
    },
    "tags": []
   },
   "source": [
    "#### People who are not using online backup are likely to Churn"
   ]
  },
  {
   "cell_type": "code",
   "execution_count": 33,
   "id": "de13d3a9",
   "metadata": {
    "execution": {
     "iopub.execute_input": "2024-10-25T08:28:33.631986Z",
     "iopub.status.busy": "2024-10-25T08:28:33.631564Z",
     "iopub.status.idle": "2024-10-25T08:28:33.652210Z",
     "shell.execute_reply": "2024-10-25T08:28:33.651183Z"
    },
    "papermill": {
     "duration": 0.051314,
     "end_time": "2024-10-25T08:28:33.654511",
     "exception": false,
     "start_time": "2024-10-25T08:28:33.603197",
     "status": "completed"
    },
    "tags": []
   },
   "outputs": [
    {
     "data": {
      "text/html": [
       "<div>\n",
       "<style scoped>\n",
       "    .dataframe tbody tr th:only-of-type {\n",
       "        vertical-align: middle;\n",
       "    }\n",
       "\n",
       "    .dataframe tbody tr th {\n",
       "        vertical-align: top;\n",
       "    }\n",
       "\n",
       "    .dataframe thead th {\n",
       "        text-align: right;\n",
       "    }\n",
       "</style>\n",
       "<table border=\"1\" class=\"dataframe\">\n",
       "  <thead>\n",
       "    <tr style=\"text-align: right;\">\n",
       "      <th></th>\n",
       "      <th>gender</th>\n",
       "      <th>SeniorCitizen</th>\n",
       "      <th>Partner</th>\n",
       "      <th>Dependents</th>\n",
       "      <th>tenure</th>\n",
       "      <th>PhoneService</th>\n",
       "      <th>MultipleLines</th>\n",
       "      <th>InternetService</th>\n",
       "      <th>OnlineSecurity</th>\n",
       "      <th>OnlineBackup</th>\n",
       "      <th>DeviceProtection</th>\n",
       "      <th>TechSupport</th>\n",
       "      <th>StreamingTV</th>\n",
       "      <th>StreamingMovies</th>\n",
       "      <th>Contract</th>\n",
       "      <th>PaperlessBilling</th>\n",
       "      <th>PaymentMethod</th>\n",
       "      <th>MonthlyCharges</th>\n",
       "      <th>TotalCharges</th>\n",
       "    </tr>\n",
       "  </thead>\n",
       "  <tbody>\n",
       "    <tr>\n",
       "      <th>1413</th>\n",
       "      <td>Male</td>\n",
       "      <td>0</td>\n",
       "      <td>Yes</td>\n",
       "      <td>Yes</td>\n",
       "      <td>65</td>\n",
       "      <td>Yes</td>\n",
       "      <td>Yes</td>\n",
       "      <td>Fiber optic</td>\n",
       "      <td>Yes</td>\n",
       "      <td>Yes</td>\n",
       "      <td>Yes</td>\n",
       "      <td>Yes</td>\n",
       "      <td>No</td>\n",
       "      <td>No</td>\n",
       "      <td>Two year</td>\n",
       "      <td>No</td>\n",
       "      <td>Credit card (automatic)</td>\n",
       "      <td>94.55</td>\n",
       "      <td>6078.75</td>\n",
       "    </tr>\n",
       "    <tr>\n",
       "      <th>7003</th>\n",
       "      <td>Male</td>\n",
       "      <td>0</td>\n",
       "      <td>No</td>\n",
       "      <td>No</td>\n",
       "      <td>26</td>\n",
       "      <td>No</td>\n",
       "      <td>No phone service</td>\n",
       "      <td>DSL</td>\n",
       "      <td>No</td>\n",
       "      <td>No</td>\n",
       "      <td>Yes</td>\n",
       "      <td>Yes</td>\n",
       "      <td>No</td>\n",
       "      <td>No</td>\n",
       "      <td>Month-to-month</td>\n",
       "      <td>No</td>\n",
       "      <td>Electronic check</td>\n",
       "      <td>35.75</td>\n",
       "      <td>1022.50</td>\n",
       "    </tr>\n",
       "    <tr>\n",
       "      <th>3355</th>\n",
       "      <td>Female</td>\n",
       "      <td>0</td>\n",
       "      <td>Yes</td>\n",
       "      <td>No</td>\n",
       "      <td>68</td>\n",
       "      <td>Yes</td>\n",
       "      <td>Yes</td>\n",
       "      <td>Fiber optic</td>\n",
       "      <td>No</td>\n",
       "      <td>Yes</td>\n",
       "      <td>Yes</td>\n",
       "      <td>Yes</td>\n",
       "      <td>No</td>\n",
       "      <td>No</td>\n",
       "      <td>Two year</td>\n",
       "      <td>No</td>\n",
       "      <td>Credit card (automatic)</td>\n",
       "      <td>90.20</td>\n",
       "      <td>6297.65</td>\n",
       "    </tr>\n",
       "    <tr>\n",
       "      <th>4494</th>\n",
       "      <td>Male</td>\n",
       "      <td>0</td>\n",
       "      <td>No</td>\n",
       "      <td>No</td>\n",
       "      <td>3</td>\n",
       "      <td>Yes</td>\n",
       "      <td>No</td>\n",
       "      <td>Fiber optic</td>\n",
       "      <td>No</td>\n",
       "      <td>Yes</td>\n",
       "      <td>No</td>\n",
       "      <td>No</td>\n",
       "      <td>No</td>\n",
       "      <td>Yes</td>\n",
       "      <td>Month-to-month</td>\n",
       "      <td>No</td>\n",
       "      <td>Electronic check</td>\n",
       "      <td>84.30</td>\n",
       "      <td>235.05</td>\n",
       "    </tr>\n",
       "    <tr>\n",
       "      <th>3541</th>\n",
       "      <td>Female</td>\n",
       "      <td>0</td>\n",
       "      <td>Yes</td>\n",
       "      <td>No</td>\n",
       "      <td>49</td>\n",
       "      <td>No</td>\n",
       "      <td>No phone service</td>\n",
       "      <td>DSL</td>\n",
       "      <td>Yes</td>\n",
       "      <td>No</td>\n",
       "      <td>No</td>\n",
       "      <td>No</td>\n",
       "      <td>Yes</td>\n",
       "      <td>No</td>\n",
       "      <td>Month-to-month</td>\n",
       "      <td>No</td>\n",
       "      <td>Bank transfer (automatic)</td>\n",
       "      <td>40.65</td>\n",
       "      <td>2070.75</td>\n",
       "    </tr>\n",
       "  </tbody>\n",
       "</table>\n",
       "</div>"
      ],
      "text/plain": [
       "      gender  SeniorCitizen Partner Dependents  tenure PhoneService  \\\n",
       "1413    Male              0     Yes        Yes      65          Yes   \n",
       "7003    Male              0      No         No      26           No   \n",
       "3355  Female              0     Yes         No      68          Yes   \n",
       "4494    Male              0      No         No       3          Yes   \n",
       "3541  Female              0     Yes         No      49           No   \n",
       "\n",
       "         MultipleLines InternetService OnlineSecurity OnlineBackup  \\\n",
       "1413               Yes     Fiber optic            Yes          Yes   \n",
       "7003  No phone service             DSL             No           No   \n",
       "3355               Yes     Fiber optic             No          Yes   \n",
       "4494                No     Fiber optic             No          Yes   \n",
       "3541  No phone service             DSL            Yes           No   \n",
       "\n",
       "     DeviceProtection TechSupport StreamingTV StreamingMovies        Contract  \\\n",
       "1413              Yes         Yes          No              No        Two year   \n",
       "7003              Yes         Yes          No              No  Month-to-month   \n",
       "3355              Yes         Yes          No              No        Two year   \n",
       "4494               No          No          No             Yes  Month-to-month   \n",
       "3541               No          No         Yes              No  Month-to-month   \n",
       "\n",
       "     PaperlessBilling              PaymentMethod  MonthlyCharges  TotalCharges  \n",
       "1413               No    Credit card (automatic)           94.55       6078.75  \n",
       "7003               No           Electronic check           35.75       1022.50  \n",
       "3355               No    Credit card (automatic)           90.20       6297.65  \n",
       "4494               No           Electronic check           84.30        235.05  \n",
       "3541               No  Bank transfer (automatic)           40.65       2070.75  "
      ]
     },
     "execution_count": 33,
     "metadata": {},
     "output_type": "execute_result"
    }
   ],
   "source": [
    "X_train.head()"
   ]
  },
  {
   "cell_type": "code",
   "execution_count": 34,
   "id": "5d714107",
   "metadata": {
    "execution": {
     "iopub.execute_input": "2024-10-25T08:28:33.709914Z",
     "iopub.status.busy": "2024-10-25T08:28:33.709536Z",
     "iopub.status.idle": "2024-10-25T08:28:33.971108Z",
     "shell.execute_reply": "2024-10-25T08:28:33.970026Z"
    },
    "papermill": {
     "duration": 0.292242,
     "end_time": "2024-10-25T08:28:33.973506",
     "exception": false,
     "start_time": "2024-10-25T08:28:33.681264",
     "status": "completed"
    },
    "tags": []
   },
   "outputs": [
    {
     "data": {
      "text/plain": [
       "<Axes: xlabel='DeviceProtection', ylabel='count'>"
      ]
     },
     "execution_count": 34,
     "metadata": {},
     "output_type": "execute_result"
    },
    {
     "data": {
      "image/png": "[encoded data removed]",
      "text/plain": [
       "<Figure size 640x480 with 1 Axes>"
      ]
     },
     "metadata": {},
     "output_type": "display_data"
    }
   ],
   "source": [
    "sns.countplot(X_train, x='DeviceProtection', hue=y_train)"
   ]
  },
  {
   "cell_type": "markdown",
   "id": "b2f1c371",
   "metadata": {
    "papermill": {
     "duration": 0.026683,
     "end_time": "2024-10-25T08:28:34.027541",
     "exception": false,
     "start_time": "2024-10-25T08:28:34.000858",
     "status": "completed"
    },
    "tags": []
   },
   "source": [
    "#### People not having device peotection are likely to leave"
   ]
  },
  {
   "cell_type": "code",
   "execution_count": 35,
   "id": "1a48bf69",
   "metadata": {
    "execution": {
     "iopub.execute_input": "2024-10-25T08:28:34.083611Z",
     "iopub.status.busy": "2024-10-25T08:28:34.082672Z",
     "iopub.status.idle": "2024-10-25T08:28:34.306501Z",
     "shell.execute_reply": "2024-10-25T08:28:34.305441Z"
    },
    "papermill": {
     "duration": 0.254393,
     "end_time": "2024-10-25T08:28:34.308791",
     "exception": false,
     "start_time": "2024-10-25T08:28:34.054398",
     "status": "completed"
    },
    "tags": []
   },
   "outputs": [
    {
     "data": {
      "text/plain": [
       "<Axes: xlabel='TechSupport', ylabel='count'>"
      ]
     },
     "execution_count": 35,
     "metadata": {},
     "output_type": "execute_result"
    },
    {
     "data": {
      "image/png": "[encoded data removed]",
      "text/plain": [
       "<Figure size 640x480 with 1 Axes>"
      ]
     },
     "metadata": {},
     "output_type": "display_data"
    }
   ],
   "source": [
    "sns.countplot(X_train, x='TechSupport', hue=y_train)"
   ]
  },
  {
   "cell_type": "markdown",
   "id": "9985881f",
   "metadata": {
    "papermill": {
     "duration": 0.02741,
     "end_time": "2024-10-25T08:28:34.364359",
     "exception": false,
     "start_time": "2024-10-25T08:28:34.336949",
     "status": "completed"
    },
    "tags": []
   },
   "source": [
    "#### Customers not having tech support are likely to leave"
   ]
  },
  {
   "cell_type": "code",
   "execution_count": 36,
   "id": "c2e6d977",
   "metadata": {
    "execution": {
     "iopub.execute_input": "2024-10-25T08:28:34.421364Z",
     "iopub.status.busy": "2024-10-25T08:28:34.420631Z",
     "iopub.status.idle": "2024-10-25T08:28:34.638421Z",
     "shell.execute_reply": "2024-10-25T08:28:34.637411Z"
    },
    "papermill": {
     "duration": 0.248788,
     "end_time": "2024-10-25T08:28:34.640472",
     "exception": false,
     "start_time": "2024-10-25T08:28:34.391684",
     "status": "completed"
    },
    "tags": []
   },
   "outputs": [
    {
     "data": {
      "text/plain": [
       "<Axes: xlabel='StreamingTV', ylabel='count'>"
      ]
     },
     "execution_count": 36,
     "metadata": {},
     "output_type": "execute_result"
    },
    {
     "data": {
      "image/png": "[encoded data removed]",
      "text/plain": [
       "<Figure size 640x480 with 1 Axes>"
      ]
     },
     "metadata": {},
     "output_type": "display_data"
    }
   ],
   "source": [
    "sns.countplot(X_train, x='StreamingTV', hue=y_train)"
   ]
  },
  {
   "cell_type": "code",
   "execution_count": 37,
   "id": "a2932672",
   "metadata": {
    "execution": {
     "iopub.execute_input": "2024-10-25T08:28:34.699459Z",
     "iopub.status.busy": "2024-10-25T08:28:34.699021Z",
     "iopub.status.idle": "2024-10-25T08:28:34.924802Z",
     "shell.execute_reply": "2024-10-25T08:28:34.923561Z"
    },
    "papermill": {
     "duration": 0.257887,
     "end_time": "2024-10-25T08:28:34.927118",
     "exception": false,
     "start_time": "2024-10-25T08:28:34.669231",
     "status": "completed"
    },
    "tags": []
   },
   "outputs": [
    {
     "data": {
      "text/plain": [
       "<Axes: xlabel='StreamingMovies', ylabel='count'>"
      ]
     },
     "execution_count": 37,
     "metadata": {},
     "output_type": "execute_result"
    },
    {
     "data": {
      "image/png": "[encoded data removed]",
      "text/plain": [
       "<Figure size 640x480 with 1 Axes>"
      ]
     },
     "metadata": {},
     "output_type": "display_data"
    }
   ],
   "source": [
    "sns.countplot(X_train, x='StreamingMovies', hue=y_train)"
   ]
  },
  {
   "cell_type": "code",
   "execution_count": 38,
   "id": "3288ff74",
   "metadata": {
    "execution": {
     "iopub.execute_input": "2024-10-25T08:28:34.985606Z",
     "iopub.status.busy": "2024-10-25T08:28:34.985199Z",
     "iopub.status.idle": "2024-10-25T08:28:35.215252Z",
     "shell.execute_reply": "2024-10-25T08:28:35.214246Z"
    },
    "papermill": {
     "duration": 0.262048,
     "end_time": "2024-10-25T08:28:35.217561",
     "exception": false,
     "start_time": "2024-10-25T08:28:34.955513",
     "status": "completed"
    },
    "tags": []
   },
   "outputs": [
    {
     "data": {
      "text/plain": [
       "<Axes: xlabel='PaperlessBilling', ylabel='count'>"
      ]
     },
     "execution_count": 38,
     "metadata": {},
     "output_type": "execute_result"
    },
    {
     "data": {
      "image/png": "[encoded data removed]",
      "text/plain": [
       "<Figure size 640x480 with 1 Axes>"
      ]
     },
     "metadata": {},
     "output_type": "display_data"
    }
   ],
   "source": [
    "sns.countplot(X_train, x='PaperlessBilling', hue=y_train)"
   ]
  },
  {
   "cell_type": "markdown",
   "id": "e51de2e4",
   "metadata": {
    "papermill": {
     "duration": 0.032554,
     "end_time": "2024-10-25T08:28:35.280842",
     "exception": false,
     "start_time": "2024-10-25T08:28:35.248288",
     "status": "completed"
    },
    "tags": []
   },
   "source": [
    "#### People using Paperless Billings are more likely to Churn"
   ]
  },
  {
   "cell_type": "code",
   "execution_count": 39,
   "id": "6ffbcf4e",
   "metadata": {
    "execution": {
     "iopub.execute_input": "2024-10-25T08:28:35.343623Z",
     "iopub.status.busy": "2024-10-25T08:28:35.342907Z",
     "iopub.status.idle": "2024-10-25T08:28:35.572981Z",
     "shell.execute_reply": "2024-10-25T08:28:35.571888Z"
    },
    "papermill": {
     "duration": 0.26373,
     "end_time": "2024-10-25T08:28:35.575445",
     "exception": false,
     "start_time": "2024-10-25T08:28:35.311715",
     "status": "completed"
    },
    "tags": []
   },
   "outputs": [
    {
     "data": {
      "text/plain": [
       "<Axes: xlabel='PaymentMethod', ylabel='count'>"
      ]
     },
     "execution_count": 39,
     "metadata": {},
     "output_type": "execute_result"
    },
    {
     "data": {
      "image/png": "[encoded data removed]",
      "text/plain": [
       "<Figure size 640x480 with 1 Axes>"
      ]
     },
     "metadata": {},
     "output_type": "display_data"
    }
   ],
   "source": [
    "sns.countplot(X_train, x='PaymentMethod', hue=y_train)"
   ]
  },
  {
   "cell_type": "markdown",
   "id": "35d21953",
   "metadata": {
    "papermill": {
     "duration": 0.029338,
     "end_time": "2024-10-25T08:28:35.634523",
     "exception": false,
     "start_time": "2024-10-25T08:28:35.605185",
     "status": "completed"
    },
    "tags": []
   },
   "source": [
    "#### People using Electronic Check are more likely to Churn"
   ]
  },
  {
   "cell_type": "markdown",
   "id": "1a76f9c9",
   "metadata": {
    "papermill": {
     "duration": 0.029185,
     "end_time": "2024-10-25T08:28:35.693193",
     "exception": false,
     "start_time": "2024-10-25T08:28:35.664008",
     "status": "completed"
    },
    "tags": []
   },
   "source": [
    "### Now lets use Distplots for the continuous numerical columns"
   ]
  },
  {
   "cell_type": "code",
   "execution_count": 40,
   "id": "f669768d",
   "metadata": {
    "execution": {
     "iopub.execute_input": "2024-10-25T08:28:35.754373Z",
     "iopub.status.busy": "2024-10-25T08:28:35.753944Z",
     "iopub.status.idle": "2024-10-25T08:28:36.275177Z",
     "shell.execute_reply": "2024-10-25T08:28:36.274044Z"
    },
    "papermill": {
     "duration": 0.554655,
     "end_time": "2024-10-25T08:28:36.277733",
     "exception": false,
     "start_time": "2024-10-25T08:28:35.723078",
     "status": "completed"
    },
    "tags": []
   },
   "outputs": [
    {
     "name": "stderr",
     "output_type": "stream",
     "text": [
      "/opt/conda/lib/python3.10/site-packages/seaborn/_oldcore.py:1119: FutureWarning: use_inf_as_na option is deprecated and will be removed in a future version. Convert inf values to NaN before operating instead.\n",
      "  with pd.option_context('mode.use_inf_as_na', True):\n",
      "/opt/conda/lib/python3.10/site-packages/seaborn/_oldcore.py:1075: FutureWarning: When grouping with a length-1 list-like, you will need to pass a length-1 tuple to get_group in a future version of pandas. Pass `(name,)` instead of `name` to silence this warning.\n",
      "  data_subset = grouped_data.get_group(pd_key)\n",
      "/opt/conda/lib/python3.10/site-packages/seaborn/_oldcore.py:1075: FutureWarning: When grouping with a length-1 list-like, you will need to pass a length-1 tuple to get_group in a future version of pandas. Pass `(name,)` instead of `name` to silence this warning.\n",
      "  data_subset = grouped_data.get_group(pd_key)\n",
      "/opt/conda/lib/python3.10/site-packages/seaborn/_oldcore.py:1075: FutureWarning: When grouping with a length-1 list-like, you will need to pass a length-1 tuple to get_group in a future version of pandas. Pass `(name,)` instead of `name` to silence this warning.\n",
      "  data_subset = grouped_data.get_group(pd_key)\n"
     ]
    },
    {
     "data": {
      "text/plain": [
       "<seaborn.axisgrid.FacetGrid at 0x7b74155a0f70>"
      ]
     },
     "execution_count": 40,
     "metadata": {},
     "output_type": "execute_result"
    },
    {
     "data": {
      "image/png": "[encoded data removed]",
      "text/plain": [
       "<Figure size 572.125x500 with 1 Axes>"
      ]
     },
     "metadata": {},
     "output_type": "display_data"
    }
   ],
   "source": [
    "sns.displot(data=X_train, x='tenure', kind='kde', hue=y_train)"
   ]
  },
  {
   "cell_type": "markdown",
   "id": "cdbc450e",
   "metadata": {
    "papermill": {
     "duration": 0.031096,
     "end_time": "2024-10-25T08:28:36.341229",
     "exception": false,
     "start_time": "2024-10-25T08:28:36.310133",
     "status": "completed"
    },
    "tags": []
   },
   "source": [
    "#### People with lower tenure are more likely to Churn"
   ]
  },
  {
   "cell_type": "code",
   "execution_count": 41,
   "id": "2bbbb22c",
   "metadata": {
    "execution": {
     "iopub.execute_input": "2024-10-25T08:28:36.406370Z",
     "iopub.status.busy": "2024-10-25T08:28:36.405502Z",
     "iopub.status.idle": "2024-10-25T08:28:36.980934Z",
     "shell.execute_reply": "2024-10-25T08:28:36.979900Z"
    },
    "papermill": {
     "duration": 0.610448,
     "end_time": "2024-10-25T08:28:36.983667",
     "exception": false,
     "start_time": "2024-10-25T08:28:36.373219",
     "status": "completed"
    },
    "tags": []
   },
   "outputs": [
    {
     "name": "stderr",
     "output_type": "stream",
     "text": [
      "/opt/conda/lib/python3.10/site-packages/seaborn/_oldcore.py:1119: FutureWarning: use_inf_as_na option is deprecated and will be removed in a future version. Convert inf values to NaN before operating instead.\n",
      "  with pd.option_context('mode.use_inf_as_na', True):\n",
      "/opt/conda/lib/python3.10/site-packages/seaborn/_oldcore.py:1075: FutureWarning: When grouping with a length-1 list-like, you will need to pass a length-1 tuple to get_group in a future version of pandas. Pass `(name,)` instead of `name` to silence this warning.\n",
      "  data_subset = grouped_data.get_group(pd_key)\n",
      "/opt/conda/lib/python3.10/site-packages/seaborn/_oldcore.py:1075: FutureWarning: When grouping with a length-1 list-like, you will need to pass a length-1 tuple to get_group in a future version of pandas. Pass `(name,)` instead of `name` to silence this warning.\n",
      "  data_subset = grouped_data.get_group(pd_key)\n",
      "/opt/conda/lib/python3.10/site-packages/seaborn/_oldcore.py:1075: FutureWarning: When grouping with a length-1 list-like, you will need to pass a length-1 tuple to get_group in a future version of pandas. Pass `(name,)` instead of `name` to silence this warning.\n",
      "  data_subset = grouped_data.get_group(pd_key)\n"
     ]
    },
    {
     "data": {
      "text/plain": [
       "<seaborn.axisgrid.FacetGrid at 0x7b74155112a0>"
      ]
     },
     "execution_count": 41,
     "metadata": {},
     "output_type": "execute_result"
    },
    {
     "data": {
      "image/png": "[encoded data removed]",
      "text/plain": [
       "<Figure size 572.125x500 with 1 Axes>"
      ]
     },
     "metadata": {},
     "output_type": "display_data"
    }
   ],
   "source": [
    "sns.displot(X_train, x='MonthlyCharges', kind='kde', hue=y_train)"
   ]
  },
  {
   "cell_type": "markdown",
   "id": "6cb10605",
   "metadata": {
    "papermill": {
     "duration": 0.030983,
     "end_time": "2024-10-25T08:28:37.046419",
     "exception": false,
     "start_time": "2024-10-25T08:28:37.015436",
     "status": "completed"
    },
    "tags": []
   },
   "source": [
    "#### People with High montly Charges are more likely to Churn"
   ]
  },
  {
   "cell_type": "markdown",
   "id": "02822771",
   "metadata": {
    "papermill": {
     "duration": 0.030825,
     "end_time": "2024-10-25T08:28:37.108244",
     "exception": false,
     "start_time": "2024-10-25T08:28:37.077419",
     "status": "completed"
    },
    "tags": []
   },
   "source": [
    "#### Total Charges column datatype is 'object' inspite of containing integer values, we need to re-convert in to int"
   ]
  },
  {
   "cell_type": "code",
   "execution_count": 42,
   "id": "f0154134",
   "metadata": {
    "execution": {
     "iopub.execute_input": "2024-10-25T08:28:37.173529Z",
     "iopub.status.busy": "2024-10-25T08:28:37.173139Z",
     "iopub.status.idle": "2024-10-25T08:28:37.750477Z",
     "shell.execute_reply": "2024-10-25T08:28:37.749390Z"
    },
    "papermill": {
     "duration": 0.611965,
     "end_time": "2024-10-25T08:28:37.752701",
     "exception": false,
     "start_time": "2024-10-25T08:28:37.140736",
     "status": "completed"
    },
    "tags": []
   },
   "outputs": [
    {
     "name": "stderr",
     "output_type": "stream",
     "text": [
      "/opt/conda/lib/python3.10/site-packages/seaborn/_oldcore.py:1119: FutureWarning: use_inf_as_na option is deprecated and will be removed in a future version. Convert inf values to NaN before operating instead.\n",
      "  with pd.option_context('mode.use_inf_as_na', True):\n",
      "/opt/conda/lib/python3.10/site-packages/seaborn/_oldcore.py:1075: FutureWarning: When grouping with a length-1 list-like, you will need to pass a length-1 tuple to get_group in a future version of pandas. Pass `(name,)` instead of `name` to silence this warning.\n",
      "  data_subset = grouped_data.get_group(pd_key)\n",
      "/opt/conda/lib/python3.10/site-packages/seaborn/_oldcore.py:1075: FutureWarning: When grouping with a length-1 list-like, you will need to pass a length-1 tuple to get_group in a future version of pandas. Pass `(name,)` instead of `name` to silence this warning.\n",
      "  data_subset = grouped_data.get_group(pd_key)\n",
      "/opt/conda/lib/python3.10/site-packages/seaborn/_oldcore.py:1075: FutureWarning: When grouping with a length-1 list-like, you will need to pass a length-1 tuple to get_group in a future version of pandas. Pass `(name,)` instead of `name` to silence this warning.\n",
      "  data_subset = grouped_data.get_group(pd_key)\n"
     ]
    },
    {
     "data": {
      "text/plain": [
       "<seaborn.axisgrid.FacetGrid at 0x7b74152f4550>"
      ]
     },
     "execution_count": 42,
     "metadata": {},
     "output_type": "execute_result"
    },
    {
     "data": {
      "image/png": "[encoded data removed]",
      "text/plain": [
       "<Figure size 572.125x500 with 1 Axes>"
      ]
     },
     "metadata": {},
     "output_type": "display_data"
    }
   ],
   "source": [
    "sns.displot(X_train, x='TotalCharges', kind='kde', hue=y_train)"
   ]
  },
  {
   "cell_type": "markdown",
   "id": "84c0690c",
   "metadata": {
    "papermill": {
     "duration": 0.032463,
     "end_time": "2024-10-25T08:28:37.817854",
     "exception": false,
     "start_time": "2024-10-25T08:28:37.785391",
     "status": "completed"
    },
    "tags": []
   },
   "source": [
    "#### Customers with low total Charges are Churning, this can be because they are rarely using services within year, so they prefer to shift"
   ]
  },
  {
   "cell_type": "code",
   "execution_count": 43,
   "id": "cc73bb0a",
   "metadata": {
    "execution": {
     "iopub.execute_input": "2024-10-25T08:28:37.884870Z",
     "iopub.status.busy": "2024-10-25T08:28:37.884125Z",
     "iopub.status.idle": "2024-10-25T08:28:38.060058Z",
     "shell.execute_reply": "2024-10-25T08:28:38.058948Z"
    },
    "papermill": {
     "duration": 0.212306,
     "end_time": "2024-10-25T08:28:38.062592",
     "exception": false,
     "start_time": "2024-10-25T08:28:37.850286",
     "status": "completed"
    },
    "tags": []
   },
   "outputs": [
    {
     "data": {
      "text/plain": [
       "<Axes: xlabel='Churn', ylabel='tenure'>"
      ]
     },
     "execution_count": 43,
     "metadata": {},
     "output_type": "execute_result"
    },
    {
     "data": {
      "image/png": "[encoded data removed]",
      "text/plain": [
       "<Figure size 640x480 with 1 Axes>"
      ]
     },
     "metadata": {},
     "output_type": "display_data"
    }
   ],
   "source": [
    "## Lets make a boxplot of Churn and tenure\n",
    "sns.boxplot(data=X_train, y='tenure',x=y_train)"
   ]
  },
  {
   "cell_type": "markdown",
   "id": "7d55b6dd",
   "metadata": {
    "papermill": {
     "duration": 0.032536,
     "end_time": "2024-10-25T08:28:38.128402",
     "exception": false,
     "start_time": "2024-10-25T08:28:38.095866",
     "status": "completed"
    },
    "tags": []
   },
   "source": [
    "#### Clearly see that People having low tenure are likely to Churn"
   ]
  },
  {
   "cell_type": "code",
   "execution_count": 44,
   "id": "f47f2530",
   "metadata": {
    "execution": {
     "iopub.execute_input": "2024-10-25T08:28:38.197856Z",
     "iopub.status.busy": "2024-10-25T08:28:38.197438Z",
     "iopub.status.idle": "2024-10-25T08:28:38.414749Z",
     "shell.execute_reply": "2024-10-25T08:28:38.413677Z"
    },
    "papermill": {
     "duration": 0.254351,
     "end_time": "2024-10-25T08:28:38.417319",
     "exception": false,
     "start_time": "2024-10-25T08:28:38.162968",
     "status": "completed"
    },
    "tags": []
   },
   "outputs": [
    {
     "data": {
      "text/plain": [
       "<Axes: xlabel='Churn', ylabel='MonthlyCharges'>"
      ]
     },
     "execution_count": 44,
     "metadata": {},
     "output_type": "execute_result"
    },
    {
     "data": {
      "image/png": "[encoded data removed]",
      "text/plain": [
       "<Figure size 640x480 with 1 Axes>"
      ]
     },
     "metadata": {},
     "output_type": "display_data"
    }
   ],
   "source": [
    "sns.boxplot(data=X_train, y='MonthlyCharges', x=y_train)"
   ]
  },
  {
   "cell_type": "code",
   "execution_count": 45,
   "id": "8800bb08",
   "metadata": {
    "execution": {
     "iopub.execute_input": "2024-10-25T08:28:38.486004Z",
     "iopub.status.busy": "2024-10-25T08:28:38.485592Z",
     "iopub.status.idle": "2024-10-25T08:28:38.508928Z",
     "shell.execute_reply": "2024-10-25T08:28:38.507877Z"
    },
    "papermill": {
     "duration": 0.060258,
     "end_time": "2024-10-25T08:28:38.511038",
     "exception": false,
     "start_time": "2024-10-25T08:28:38.450780",
     "status": "completed"
    },
    "tags": []
   },
   "outputs": [
    {
     "data": {
      "text/html": [
       "<div>\n",
       "<style scoped>\n",
       "    .dataframe tbody tr th:only-of-type {\n",
       "        vertical-align: middle;\n",
       "    }\n",
       "\n",
       "    .dataframe tbody tr th {\n",
       "        vertical-align: top;\n",
       "    }\n",
       "\n",
       "    .dataframe thead th {\n",
       "        text-align: right;\n",
       "    }\n",
       "</style>\n",
       "<table border=\"1\" class=\"dataframe\">\n",
       "  <thead>\n",
       "    <tr style=\"text-align: right;\">\n",
       "      <th></th>\n",
       "      <th>gender</th>\n",
       "      <th>SeniorCitizen</th>\n",
       "      <th>Partner</th>\n",
       "      <th>Dependents</th>\n",
       "      <th>tenure</th>\n",
       "      <th>PhoneService</th>\n",
       "      <th>MultipleLines</th>\n",
       "      <th>InternetService</th>\n",
       "      <th>OnlineSecurity</th>\n",
       "      <th>OnlineBackup</th>\n",
       "      <th>DeviceProtection</th>\n",
       "      <th>TechSupport</th>\n",
       "      <th>StreamingTV</th>\n",
       "      <th>StreamingMovies</th>\n",
       "      <th>Contract</th>\n",
       "      <th>PaperlessBilling</th>\n",
       "      <th>PaymentMethod</th>\n",
       "      <th>MonthlyCharges</th>\n",
       "      <th>TotalCharges</th>\n",
       "    </tr>\n",
       "  </thead>\n",
       "  <tbody>\n",
       "    <tr>\n",
       "      <th>1413</th>\n",
       "      <td>Male</td>\n",
       "      <td>No</td>\n",
       "      <td>Yes</td>\n",
       "      <td>Yes</td>\n",
       "      <td>65</td>\n",
       "      <td>Yes</td>\n",
       "      <td>Yes</td>\n",
       "      <td>Fiber optic</td>\n",
       "      <td>Yes</td>\n",
       "      <td>Yes</td>\n",
       "      <td>Yes</td>\n",
       "      <td>Yes</td>\n",
       "      <td>No</td>\n",
       "      <td>No</td>\n",
       "      <td>Two year</td>\n",
       "      <td>No</td>\n",
       "      <td>Credit card (automatic)</td>\n",
       "      <td>94.55</td>\n",
       "      <td>6078.75</td>\n",
       "    </tr>\n",
       "    <tr>\n",
       "      <th>7003</th>\n",
       "      <td>Male</td>\n",
       "      <td>No</td>\n",
       "      <td>No</td>\n",
       "      <td>No</td>\n",
       "      <td>26</td>\n",
       "      <td>No</td>\n",
       "      <td>No phone service</td>\n",
       "      <td>DSL</td>\n",
       "      <td>No</td>\n",
       "      <td>No</td>\n",
       "      <td>Yes</td>\n",
       "      <td>Yes</td>\n",
       "      <td>No</td>\n",
       "      <td>No</td>\n",
       "      <td>Month-to-month</td>\n",
       "      <td>No</td>\n",
       "      <td>Electronic check</td>\n",
       "      <td>35.75</td>\n",
       "      <td>1022.50</td>\n",
       "    </tr>\n",
       "    <tr>\n",
       "      <th>3355</th>\n",
       "      <td>Female</td>\n",
       "      <td>No</td>\n",
       "      <td>Yes</td>\n",
       "      <td>No</td>\n",
       "      <td>68</td>\n",
       "      <td>Yes</td>\n",
       "      <td>Yes</td>\n",
       "      <td>Fiber optic</td>\n",
       "      <td>No</td>\n",
       "      <td>Yes</td>\n",
       "      <td>Yes</td>\n",
       "      <td>Yes</td>\n",
       "      <td>No</td>\n",
       "      <td>No</td>\n",
       "      <td>Two year</td>\n",
       "      <td>No</td>\n",
       "      <td>Credit card (automatic)</td>\n",
       "      <td>90.20</td>\n",
       "      <td>6297.65</td>\n",
       "    </tr>\n",
       "    <tr>\n",
       "      <th>4494</th>\n",
       "      <td>Male</td>\n",
       "      <td>No</td>\n",
       "      <td>No</td>\n",
       "      <td>No</td>\n",
       "      <td>3</td>\n",
       "      <td>Yes</td>\n",
       "      <td>No</td>\n",
       "      <td>Fiber optic</td>\n",
       "      <td>No</td>\n",
       "      <td>Yes</td>\n",
       "      <td>No</td>\n",
       "      <td>No</td>\n",
       "      <td>No</td>\n",
       "      <td>Yes</td>\n",
       "      <td>Month-to-month</td>\n",
       "      <td>No</td>\n",
       "      <td>Electronic check</td>\n",
       "      <td>84.30</td>\n",
       "      <td>235.05</td>\n",
       "    </tr>\n",
       "    <tr>\n",
       "      <th>3541</th>\n",
       "      <td>Female</td>\n",
       "      <td>No</td>\n",
       "      <td>Yes</td>\n",
       "      <td>No</td>\n",
       "      <td>49</td>\n",
       "      <td>No</td>\n",
       "      <td>No phone service</td>\n",
       "      <td>DSL</td>\n",
       "      <td>Yes</td>\n",
       "      <td>No</td>\n",
       "      <td>No</td>\n",
       "      <td>No</td>\n",
       "      <td>Yes</td>\n",
       "      <td>No</td>\n",
       "      <td>Month-to-month</td>\n",
       "      <td>No</td>\n",
       "      <td>Bank transfer (automatic)</td>\n",
       "      <td>40.65</td>\n",
       "      <td>2070.75</td>\n",
       "    </tr>\n",
       "  </tbody>\n",
       "</table>\n",
       "</div>"
      ],
      "text/plain": [
       "      gender SeniorCitizen Partner Dependents  tenure PhoneService  \\\n",
       "1413    Male            No     Yes        Yes      65          Yes   \n",
       "7003    Male            No      No         No      26           No   \n",
       "3355  Female            No     Yes         No      68          Yes   \n",
       "4494    Male            No      No         No       3          Yes   \n",
       "3541  Female            No     Yes         No      49           No   \n",
       "\n",
       "         MultipleLines InternetService OnlineSecurity OnlineBackup  \\\n",
       "1413               Yes     Fiber optic            Yes          Yes   \n",
       "7003  No phone service             DSL             No           No   \n",
       "3355               Yes     Fiber optic             No          Yes   \n",
       "4494                No     Fiber optic             No          Yes   \n",
       "3541  No phone service             DSL            Yes           No   \n",
       "\n",
       "     DeviceProtection TechSupport StreamingTV StreamingMovies        Contract  \\\n",
       "1413              Yes         Yes          No              No        Two year   \n",
       "7003              Yes         Yes          No              No  Month-to-month   \n",
       "3355              Yes         Yes          No              No        Two year   \n",
       "4494               No          No          No             Yes  Month-to-month   \n",
       "3541               No          No         Yes              No  Month-to-month   \n",
       "\n",
       "     PaperlessBilling              PaymentMethod  MonthlyCharges  TotalCharges  \n",
       "1413               No    Credit card (automatic)           94.55       6078.75  \n",
       "7003               No           Electronic check           35.75       1022.50  \n",
       "3355               No    Credit card (automatic)           90.20       6297.65  \n",
       "4494               No           Electronic check           84.30        235.05  \n",
       "3541               No  Bank transfer (automatic)           40.65       2070.75  "
      ]
     },
     "execution_count": 45,
     "metadata": {},
     "output_type": "execute_result"
    }
   ],
   "source": [
    "## mapping the senior citizen feature to 0->No and 1->Yes\n",
    "X_train['SeniorCitizen'] = X_train['SeniorCitizen'].map({0 : \"No\", 1 : \"Yes\"})\n",
    "X_test['SeniorCitizen'] = X_test['SeniorCitizen'].map({0 : \"No\", 1 : \"Yes\"})\n",
    "X_train.head()"
   ]
  },
  {
   "cell_type": "code",
   "execution_count": 46,
   "id": "ddb82d8d",
   "metadata": {
    "execution": {
     "iopub.execute_input": "2024-10-25T08:28:38.580654Z",
     "iopub.status.busy": "2024-10-25T08:28:38.579855Z",
     "iopub.status.idle": "2024-10-25T08:28:38.597196Z",
     "shell.execute_reply": "2024-10-25T08:28:38.596125Z"
    },
    "papermill": {
     "duration": 0.054566,
     "end_time": "2024-10-25T08:28:38.599431",
     "exception": false,
     "start_time": "2024-10-25T08:28:38.544865",
     "status": "completed"
    },
    "tags": []
   },
   "outputs": [
    {
     "name": "stdout",
     "output_type": "stream",
     "text": [
      "<class 'pandas.core.frame.DataFrame'>\n",
      "Index: 5625 entries, 1413 to 1505\n",
      "Data columns (total 19 columns):\n",
      " #   Column            Non-Null Count  Dtype  \n",
      "---  ------            --------------  -----  \n",
      " 0   gender            5625 non-null   object \n",
      " 1   SeniorCitizen     5625 non-null   object \n",
      " 2   Partner           5625 non-null   object \n",
      " 3   Dependents        5625 non-null   object \n",
      " 4   tenure            5625 non-null   int64  \n",
      " 5   PhoneService      5625 non-null   object \n",
      " 6   MultipleLines     5625 non-null   object \n",
      " 7   InternetService   5625 non-null   object \n",
      " 8   OnlineSecurity    5625 non-null   object \n",
      " 9   OnlineBackup      5625 non-null   object \n",
      " 10  DeviceProtection  5625 non-null   object \n",
      " 11  TechSupport       5625 non-null   object \n",
      " 12  StreamingTV       5625 non-null   object \n",
      " 13  StreamingMovies   5625 non-null   object \n",
      " 14  Contract          5625 non-null   object \n",
      " 15  PaperlessBilling  5625 non-null   object \n",
      " 16  PaymentMethod     5625 non-null   object \n",
      " 17  MonthlyCharges    5625 non-null   float64\n",
      " 18  TotalCharges      5625 non-null   float64\n",
      "dtypes: float64(2), int64(1), object(16)\n",
      "memory usage: 1007.9+ KB\n"
     ]
    }
   ],
   "source": [
    "X_train.info()"
   ]
  },
  {
   "cell_type": "code",
   "execution_count": 47,
   "id": "8fc470bc",
   "metadata": {
    "execution": {
     "iopub.execute_input": "2024-10-25T08:28:38.668821Z",
     "iopub.status.busy": "2024-10-25T08:28:38.667895Z",
     "iopub.status.idle": "2024-10-25T08:28:38.676897Z",
     "shell.execute_reply": "2024-10-25T08:28:38.675750Z"
    },
    "papermill": {
     "duration": 0.045921,
     "end_time": "2024-10-25T08:28:38.678881",
     "exception": false,
     "start_time": "2024-10-25T08:28:38.632960",
     "status": "completed"
    },
    "tags": []
   },
   "outputs": [
    {
     "name": "stdout",
     "output_type": "stream",
     "text": [
      "Index(['gender', 'SeniorCitizen', 'Partner', 'Dependents', 'PhoneService',\n",
      "       'MultipleLines', 'InternetService', 'OnlineSecurity', 'OnlineBackup',\n",
      "       'DeviceProtection', 'TechSupport', 'StreamingTV', 'StreamingMovies',\n",
      "       'Contract', 'PaperlessBilling', 'PaymentMethod'],\n",
      "      dtype='object')\n"
     ]
    }
   ],
   "source": [
    "## categorical_columns\n",
    "cat_cols = X_train.select_dtypes(include='object').columns\n",
    "print(cat_cols)"
   ]
  },
  {
   "cell_type": "code",
   "execution_count": 48,
   "id": "21ecd6ed",
   "metadata": {
    "execution": {
     "iopub.execute_input": "2024-10-25T08:28:38.748360Z",
     "iopub.status.busy": "2024-10-25T08:28:38.747931Z",
     "iopub.status.idle": "2024-10-25T08:28:38.753015Z",
     "shell.execute_reply": "2024-10-25T08:28:38.751958Z"
    },
    "papermill": {
     "duration": 0.042616,
     "end_time": "2024-10-25T08:28:38.755248",
     "exception": false,
     "start_time": "2024-10-25T08:28:38.712632",
     "status": "completed"
    },
    "tags": []
   },
   "outputs": [],
   "source": [
    "## converting object columns to int using label encoder\n",
    "\n",
    "from sklearn.preprocessing import LabelEncoder"
   ]
  },
  {
   "cell_type": "code",
   "execution_count": 49,
   "id": "5530823f",
   "metadata": {
    "execution": {
     "iopub.execute_input": "2024-10-25T08:28:38.824196Z",
     "iopub.status.busy": "2024-10-25T08:28:38.823767Z",
     "iopub.status.idle": "2024-10-25T08:28:38.831270Z",
     "shell.execute_reply": "2024-10-25T08:28:38.830061Z"
    },
    "papermill": {
     "duration": 0.044487,
     "end_time": "2024-10-25T08:28:38.833405",
     "exception": false,
     "start_time": "2024-10-25T08:28:38.788918",
     "status": "completed"
    },
    "tags": []
   },
   "outputs": [],
   "source": [
    "## for changing y_test into numerical encodings\n",
    "le_y = LabelEncoder()\n",
    "y_train = le_y.fit_transform(y_train)\n",
    "y_test = le_y.transform(y_test)"
   ]
  },
  {
   "cell_type": "code",
   "execution_count": 50,
   "id": "b08ba985",
   "metadata": {
    "execution": {
     "iopub.execute_input": "2024-10-25T08:28:38.903710Z",
     "iopub.status.busy": "2024-10-25T08:28:38.902913Z",
     "iopub.status.idle": "2024-10-25T08:28:38.908715Z",
     "shell.execute_reply": "2024-10-25T08:28:38.907483Z"
    },
    "papermill": {
     "duration": 0.043417,
     "end_time": "2024-10-25T08:28:38.910901",
     "exception": false,
     "start_time": "2024-10-25T08:28:38.867484",
     "status": "completed"
    },
    "tags": []
   },
   "outputs": [],
   "source": [
    "def change_to_int(column):\n",
    "    if column.dtype == 'object':\n",
    "        c_name = column.name\n",
    "        le = LabelEncoder()\n",
    "        column = le.fit_transform(column)\n",
    "        X_test[c_name] = le.transform(X_test[c_name])\n",
    "    return column"
   ]
  },
  {
   "cell_type": "code",
   "execution_count": 51,
   "id": "d6037ca2",
   "metadata": {
    "execution": {
     "iopub.execute_input": "2024-10-25T08:28:38.981262Z",
     "iopub.status.busy": "2024-10-25T08:28:38.980790Z",
     "iopub.status.idle": "2024-10-25T08:28:39.029534Z",
     "shell.execute_reply": "2024-10-25T08:28:39.028524Z"
    },
    "papermill": {
     "duration": 0.086572,
     "end_time": "2024-10-25T08:28:39.031877",
     "exception": false,
     "start_time": "2024-10-25T08:28:38.945305",
     "status": "completed"
    },
    "tags": []
   },
   "outputs": [
    {
     "data": {
      "text/html": [
       "<div>\n",
       "<style scoped>\n",
       "    .dataframe tbody tr th:only-of-type {\n",
       "        vertical-align: middle;\n",
       "    }\n",
       "\n",
       "    .dataframe tbody tr th {\n",
       "        vertical-align: top;\n",
       "    }\n",
       "\n",
       "    .dataframe thead th {\n",
       "        text-align: right;\n",
       "    }\n",
       "</style>\n",
       "<table border=\"1\" class=\"dataframe\">\n",
       "  <thead>\n",
       "    <tr style=\"text-align: right;\">\n",
       "      <th></th>\n",
       "      <th>gender</th>\n",
       "      <th>SeniorCitizen</th>\n",
       "      <th>Partner</th>\n",
       "      <th>Dependents</th>\n",
       "      <th>tenure</th>\n",
       "      <th>PhoneService</th>\n",
       "      <th>MultipleLines</th>\n",
       "      <th>InternetService</th>\n",
       "      <th>OnlineSecurity</th>\n",
       "      <th>OnlineBackup</th>\n",
       "      <th>DeviceProtection</th>\n",
       "      <th>TechSupport</th>\n",
       "      <th>StreamingTV</th>\n",
       "      <th>StreamingMovies</th>\n",
       "      <th>Contract</th>\n",
       "      <th>PaperlessBilling</th>\n",
       "      <th>PaymentMethod</th>\n",
       "      <th>MonthlyCharges</th>\n",
       "      <th>TotalCharges</th>\n",
       "    </tr>\n",
       "  </thead>\n",
       "  <tbody>\n",
       "    <tr>\n",
       "      <th>1413</th>\n",
       "      <td>1</td>\n",
       "      <td>0</td>\n",
       "      <td>1</td>\n",
       "      <td>1</td>\n",
       "      <td>65</td>\n",
       "      <td>1</td>\n",
       "      <td>2</td>\n",
       "      <td>1</td>\n",
       "      <td>2</td>\n",
       "      <td>2</td>\n",
       "      <td>2</td>\n",
       "      <td>2</td>\n",
       "      <td>0</td>\n",
       "      <td>0</td>\n",
       "      <td>2</td>\n",
       "      <td>0</td>\n",
       "      <td>1</td>\n",
       "      <td>94.55</td>\n",
       "      <td>6078.75</td>\n",
       "    </tr>\n",
       "    <tr>\n",
       "      <th>7003</th>\n",
       "      <td>1</td>\n",
       "      <td>0</td>\n",
       "      <td>0</td>\n",
       "      <td>0</td>\n",
       "      <td>26</td>\n",
       "      <td>0</td>\n",
       "      <td>1</td>\n",
       "      <td>0</td>\n",
       "      <td>0</td>\n",
       "      <td>0</td>\n",
       "      <td>2</td>\n",
       "      <td>2</td>\n",
       "      <td>0</td>\n",
       "      <td>0</td>\n",
       "      <td>0</td>\n",
       "      <td>0</td>\n",
       "      <td>2</td>\n",
       "      <td>35.75</td>\n",
       "      <td>1022.50</td>\n",
       "    </tr>\n",
       "    <tr>\n",
       "      <th>3355</th>\n",
       "      <td>0</td>\n",
       "      <td>0</td>\n",
       "      <td>1</td>\n",
       "      <td>0</td>\n",
       "      <td>68</td>\n",
       "      <td>1</td>\n",
       "      <td>2</td>\n",
       "      <td>1</td>\n",
       "      <td>0</td>\n",
       "      <td>2</td>\n",
       "      <td>2</td>\n",
       "      <td>2</td>\n",
       "      <td>0</td>\n",
       "      <td>0</td>\n",
       "      <td>2</td>\n",
       "      <td>0</td>\n",
       "      <td>1</td>\n",
       "      <td>90.20</td>\n",
       "      <td>6297.65</td>\n",
       "    </tr>\n",
       "    <tr>\n",
       "      <th>4494</th>\n",
       "      <td>1</td>\n",
       "      <td>0</td>\n",
       "      <td>0</td>\n",
       "      <td>0</td>\n",
       "      <td>3</td>\n",
       "      <td>1</td>\n",
       "      <td>0</td>\n",
       "      <td>1</td>\n",
       "      <td>0</td>\n",
       "      <td>2</td>\n",
       "      <td>0</td>\n",
       "      <td>0</td>\n",
       "      <td>0</td>\n",
       "      <td>2</td>\n",
       "      <td>0</td>\n",
       "      <td>0</td>\n",
       "      <td>2</td>\n",
       "      <td>84.30</td>\n",
       "      <td>235.05</td>\n",
       "    </tr>\n",
       "    <tr>\n",
       "      <th>3541</th>\n",
       "      <td>0</td>\n",
       "      <td>0</td>\n",
       "      <td>1</td>\n",
       "      <td>0</td>\n",
       "      <td>49</td>\n",
       "      <td>0</td>\n",
       "      <td>1</td>\n",
       "      <td>0</td>\n",
       "      <td>2</td>\n",
       "      <td>0</td>\n",
       "      <td>0</td>\n",
       "      <td>0</td>\n",
       "      <td>2</td>\n",
       "      <td>0</td>\n",
       "      <td>0</td>\n",
       "      <td>0</td>\n",
       "      <td>0</td>\n",
       "      <td>40.65</td>\n",
       "      <td>2070.75</td>\n",
       "    </tr>\n",
       "  </tbody>\n",
       "</table>\n",
       "</div>"
      ],
      "text/plain": [
       "      gender  SeniorCitizen  Partner  Dependents  tenure  PhoneService  \\\n",
       "1413       1              0        1           1      65             1   \n",
       "7003       1              0        0           0      26             0   \n",
       "3355       0              0        1           0      68             1   \n",
       "4494       1              0        0           0       3             1   \n",
       "3541       0              0        1           0      49             0   \n",
       "\n",
       "      MultipleLines  InternetService  OnlineSecurity  OnlineBackup  \\\n",
       "1413              2                1               2             2   \n",
       "7003              1                0               0             0   \n",
       "3355              2                1               0             2   \n",
       "4494              0                1               0             2   \n",
       "3541              1                0               2             0   \n",
       "\n",
       "      DeviceProtection  TechSupport  StreamingTV  StreamingMovies  Contract  \\\n",
       "1413                 2            2            0                0         2   \n",
       "7003                 2            2            0                0         0   \n",
       "3355                 2            2            0                0         2   \n",
       "4494                 0            0            0                2         0   \n",
       "3541                 0            0            2                0         0   \n",
       "\n",
       "      PaperlessBilling  PaymentMethod  MonthlyCharges  TotalCharges  \n",
       "1413                 0              1           94.55       6078.75  \n",
       "7003                 0              2           35.75       1022.50  \n",
       "3355                 0              1           90.20       6297.65  \n",
       "4494                 0              2           84.30        235.05  \n",
       "3541                 0              0           40.65       2070.75  "
      ]
     },
     "execution_count": 51,
     "metadata": {},
     "output_type": "execute_result"
    }
   ],
   "source": [
    "X_train = X_train.apply(lambda x: change_to_int(x))\n",
    "X_train.head()"
   ]
  },
  {
   "cell_type": "markdown",
   "id": "a9423ee6",
   "metadata": {
    "papermill": {
     "duration": 0.034326,
     "end_time": "2024-10-25T08:28:39.101335",
     "exception": false,
     "start_time": "2024-10-25T08:28:39.067009",
     "status": "completed"
    },
    "tags": []
   },
   "source": [
    "#### Yo now we converted all categoricals into numericals"
   ]
  },
  {
   "cell_type": "code",
   "execution_count": 52,
   "id": "4c6b6cf3",
   "metadata": {
    "execution": {
     "iopub.execute_input": "2024-10-25T08:28:39.173692Z",
     "iopub.status.busy": "2024-10-25T08:28:39.173270Z",
     "iopub.status.idle": "2024-10-25T08:28:39.203745Z",
     "shell.execute_reply": "2024-10-25T08:28:39.202735Z"
    },
    "papermill": {
     "duration": 0.070164,
     "end_time": "2024-10-25T08:28:39.205962",
     "exception": false,
     "start_time": "2024-10-25T08:28:39.135798",
     "status": "completed"
    },
    "tags": []
   },
   "outputs": [
    {
     "data": {
      "text/html": [
       "<div>\n",
       "<style scoped>\n",
       "    .dataframe tbody tr th:only-of-type {\n",
       "        vertical-align: middle;\n",
       "    }\n",
       "\n",
       "    .dataframe tbody tr th {\n",
       "        vertical-align: top;\n",
       "    }\n",
       "\n",
       "    .dataframe thead th {\n",
       "        text-align: right;\n",
       "    }\n",
       "</style>\n",
       "<table border=\"1\" class=\"dataframe\">\n",
       "  <thead>\n",
       "    <tr style=\"text-align: right;\">\n",
       "      <th></th>\n",
       "      <th>gender</th>\n",
       "      <th>SeniorCitizen</th>\n",
       "      <th>Partner</th>\n",
       "      <th>Dependents</th>\n",
       "      <th>tenure</th>\n",
       "      <th>PhoneService</th>\n",
       "      <th>MultipleLines</th>\n",
       "      <th>InternetService</th>\n",
       "      <th>OnlineSecurity</th>\n",
       "      <th>OnlineBackup</th>\n",
       "      <th>DeviceProtection</th>\n",
       "      <th>TechSupport</th>\n",
       "      <th>StreamingTV</th>\n",
       "      <th>StreamingMovies</th>\n",
       "      <th>Contract</th>\n",
       "      <th>PaperlessBilling</th>\n",
       "      <th>PaymentMethod</th>\n",
       "      <th>MonthlyCharges</th>\n",
       "      <th>TotalCharges</th>\n",
       "    </tr>\n",
       "  </thead>\n",
       "  <tbody>\n",
       "    <tr>\n",
       "      <th>gender</th>\n",
       "      <td>1.000000</td>\n",
       "      <td>-0.033382</td>\n",
       "      <td>-0.020060</td>\n",
       "      <td>0.032393</td>\n",
       "      <td>0.023211</td>\n",
       "      <td>-0.016134</td>\n",
       "      <td>-0.025921</td>\n",
       "      <td>0.024396</td>\n",
       "      <td>0.016898</td>\n",
       "      <td>-0.017138</td>\n",
       "      <td>-0.008360</td>\n",
       "      <td>0.023072</td>\n",
       "      <td>0.013786</td>\n",
       "      <td>0.011074</td>\n",
       "      <td>0.025599</td>\n",
       "      <td>0.015580</td>\n",
       "      <td>0.030861</td>\n",
       "      <td>-0.049705</td>\n",
       "      <td>-0.013029</td>\n",
       "    </tr>\n",
       "    <tr>\n",
       "      <th>SeniorCitizen</th>\n",
       "      <td>-0.033382</td>\n",
       "      <td>1.000000</td>\n",
       "      <td>0.008972</td>\n",
       "      <td>-0.202854</td>\n",
       "      <td>0.022508</td>\n",
       "      <td>0.027704</td>\n",
       "      <td>0.165332</td>\n",
       "      <td>-0.041251</td>\n",
       "      <td>-0.144526</td>\n",
       "      <td>0.025990</td>\n",
       "      <td>-0.014783</td>\n",
       "      <td>-0.176657</td>\n",
       "      <td>-0.031050</td>\n",
       "      <td>0.049493</td>\n",
       "      <td>-0.172690</td>\n",
       "      <td>0.162925</td>\n",
       "      <td>-0.054678</td>\n",
       "      <td>0.244672</td>\n",
       "      <td>0.124945</td>\n",
       "    </tr>\n",
       "    <tr>\n",
       "      <th>Partner</th>\n",
       "      <td>-0.020060</td>\n",
       "      <td>0.008972</td>\n",
       "      <td>1.000000</td>\n",
       "      <td>0.450372</td>\n",
       "      <td>0.382196</td>\n",
       "      <td>0.054310</td>\n",
       "      <td>0.113595</td>\n",
       "      <td>-0.004566</td>\n",
       "      <td>0.123337</td>\n",
       "      <td>0.164274</td>\n",
       "      <td>0.175363</td>\n",
       "      <td>0.144119</td>\n",
       "      <td>0.131675</td>\n",
       "      <td>0.141736</td>\n",
       "      <td>0.309383</td>\n",
       "      <td>-0.027714</td>\n",
       "      <td>-0.130402</td>\n",
       "      <td>0.083977</td>\n",
       "      <td>0.319923</td>\n",
       "    </tr>\n",
       "    <tr>\n",
       "      <th>Dependents</th>\n",
       "      <td>0.032393</td>\n",
       "      <td>-0.202854</td>\n",
       "      <td>0.450372</td>\n",
       "      <td>1.000000</td>\n",
       "      <td>0.172935</td>\n",
       "      <td>0.014419</td>\n",
       "      <td>-0.044799</td>\n",
       "      <td>0.050530</td>\n",
       "      <td>0.178684</td>\n",
       "      <td>0.098401</td>\n",
       "      <td>0.080572</td>\n",
       "      <td>0.174987</td>\n",
       "      <td>0.048022</td>\n",
       "      <td>0.015503</td>\n",
       "      <td>0.254728</td>\n",
       "      <td>-0.097981</td>\n",
       "      <td>-0.055339</td>\n",
       "      <td>-0.111541</td>\n",
       "      <td>0.075798</td>\n",
       "    </tr>\n",
       "    <tr>\n",
       "      <th>tenure</th>\n",
       "      <td>0.023211</td>\n",
       "      <td>0.022508</td>\n",
       "      <td>0.382196</td>\n",
       "      <td>0.172935</td>\n",
       "      <td>1.000000</td>\n",
       "      <td>-0.000187</td>\n",
       "      <td>0.333749</td>\n",
       "      <td>-0.049623</td>\n",
       "      <td>0.364039</td>\n",
       "      <td>0.403742</td>\n",
       "      <td>0.341928</td>\n",
       "      <td>0.356645</td>\n",
       "      <td>0.305202</td>\n",
       "      <td>0.311133</td>\n",
       "      <td>0.681945</td>\n",
       "      <td>-0.006065</td>\n",
       "      <td>-0.383907</td>\n",
       "      <td>0.232051</td>\n",
       "      <td>0.820603</td>\n",
       "    </tr>\n",
       "    <tr>\n",
       "      <th>PhoneService</th>\n",
       "      <td>-0.016134</td>\n",
       "      <td>0.027704</td>\n",
       "      <td>0.054310</td>\n",
       "      <td>0.014419</td>\n",
       "      <td>-0.000187</td>\n",
       "      <td>1.000000</td>\n",
       "      <td>-0.026386</td>\n",
       "      <td>0.386302</td>\n",
       "      <td>-0.031283</td>\n",
       "      <td>0.041665</td>\n",
       "      <td>0.024506</td>\n",
       "      <td>-0.075948</td>\n",
       "      <td>0.067832</td>\n",
       "      <td>0.056889</td>\n",
       "      <td>-0.012894</td>\n",
       "      <td>0.071347</td>\n",
       "      <td>-0.004564</td>\n",
       "      <td>0.245334</td>\n",
       "      <td>0.104376</td>\n",
       "    </tr>\n",
       "    <tr>\n",
       "      <th>MultipleLines</th>\n",
       "      <td>-0.025921</td>\n",
       "      <td>0.165332</td>\n",
       "      <td>0.113595</td>\n",
       "      <td>-0.044799</td>\n",
       "      <td>0.333749</td>\n",
       "      <td>-0.026386</td>\n",
       "      <td>1.000000</td>\n",
       "      <td>-0.099175</td>\n",
       "      <td>0.001321</td>\n",
       "      <td>0.154480</td>\n",
       "      <td>0.113622</td>\n",
       "      <td>0.018164</td>\n",
       "      <td>0.171114</td>\n",
       "      <td>0.192355</td>\n",
       "      <td>0.091895</td>\n",
       "      <td>0.221792</td>\n",
       "      <td>-0.167922</td>\n",
       "      <td>0.429797</td>\n",
       "      <td>0.453550</td>\n",
       "    </tr>\n",
       "    <tr>\n",
       "      <th>InternetService</th>\n",
       "      <td>0.024396</td>\n",
       "      <td>-0.041251</td>\n",
       "      <td>-0.004566</td>\n",
       "      <td>0.050530</td>\n",
       "      <td>-0.049623</td>\n",
       "      <td>0.386302</td>\n",
       "      <td>-0.099175</td>\n",
       "      <td>1.000000</td>\n",
       "      <td>-0.028404</td>\n",
       "      <td>0.067495</td>\n",
       "      <td>0.039657</td>\n",
       "      <td>-0.031560</td>\n",
       "      <td>0.098089</td>\n",
       "      <td>0.096965</td>\n",
       "      <td>0.089211</td>\n",
       "      <td>-0.165289</td>\n",
       "      <td>0.096648</td>\n",
       "      <td>-0.333915</td>\n",
       "      <td>-0.199882</td>\n",
       "    </tr>\n",
       "    <tr>\n",
       "      <th>OnlineSecurity</th>\n",
       "      <td>0.016898</td>\n",
       "      <td>-0.144526</td>\n",
       "      <td>0.123337</td>\n",
       "      <td>0.178684</td>\n",
       "      <td>0.364039</td>\n",
       "      <td>-0.031283</td>\n",
       "      <td>0.001321</td>\n",
       "      <td>-0.028404</td>\n",
       "      <td>1.000000</td>\n",
       "      <td>0.203495</td>\n",
       "      <td>0.199124</td>\n",
       "      <td>0.319906</td>\n",
       "      <td>0.099251</td>\n",
       "      <td>0.067875</td>\n",
       "      <td>0.385079</td>\n",
       "      <td>-0.131868</td>\n",
       "      <td>-0.119955</td>\n",
       "      <td>-0.047646</td>\n",
       "      <td>0.290083</td>\n",
       "    </tr>\n",
       "    <tr>\n",
       "      <th>OnlineBackup</th>\n",
       "      <td>-0.017138</td>\n",
       "      <td>0.025990</td>\n",
       "      <td>0.164274</td>\n",
       "      <td>0.098401</td>\n",
       "      <td>0.403742</td>\n",
       "      <td>0.041665</td>\n",
       "      <td>0.154480</td>\n",
       "      <td>0.067495</td>\n",
       "      <td>0.203495</td>\n",
       "      <td>1.000000</td>\n",
       "      <td>0.185567</td>\n",
       "      <td>0.221420</td>\n",
       "      <td>0.218647</td>\n",
       "      <td>0.210607</td>\n",
       "      <td>0.294741</td>\n",
       "      <td>0.003058</td>\n",
       "      <td>-0.122460</td>\n",
       "      <td>0.137248</td>\n",
       "      <td>0.418059</td>\n",
       "    </tr>\n",
       "    <tr>\n",
       "      <th>DeviceProtection</th>\n",
       "      <td>-0.008360</td>\n",
       "      <td>-0.014783</td>\n",
       "      <td>0.175363</td>\n",
       "      <td>0.080572</td>\n",
       "      <td>0.341928</td>\n",
       "      <td>0.024506</td>\n",
       "      <td>0.113622</td>\n",
       "      <td>0.039657</td>\n",
       "      <td>0.199124</td>\n",
       "      <td>0.185567</td>\n",
       "      <td>1.000000</td>\n",
       "      <td>0.206521</td>\n",
       "      <td>0.293064</td>\n",
       "      <td>0.272831</td>\n",
       "      <td>0.329857</td>\n",
       "      <td>-0.031968</td>\n",
       "      <td>-0.141079</td>\n",
       "      <td>0.153003</td>\n",
       "      <td>0.362163</td>\n",
       "    </tr>\n",
       "    <tr>\n",
       "      <th>TechSupport</th>\n",
       "      <td>0.023072</td>\n",
       "      <td>-0.176657</td>\n",
       "      <td>0.144119</td>\n",
       "      <td>0.174987</td>\n",
       "      <td>0.356645</td>\n",
       "      <td>-0.075948</td>\n",
       "      <td>0.018164</td>\n",
       "      <td>-0.031560</td>\n",
       "      <td>0.319906</td>\n",
       "      <td>0.221420</td>\n",
       "      <td>0.206521</td>\n",
       "      <td>1.000000</td>\n",
       "      <td>0.191393</td>\n",
       "      <td>0.179677</td>\n",
       "      <td>0.450339</td>\n",
       "      <td>-0.095467</td>\n",
       "      <td>-0.130095</td>\n",
       "      <td>-0.051232</td>\n",
       "      <td>0.284382</td>\n",
       "    </tr>\n",
       "    <tr>\n",
       "      <th>StreamingTV</th>\n",
       "      <td>0.013786</td>\n",
       "      <td>-0.031050</td>\n",
       "      <td>0.131675</td>\n",
       "      <td>0.048022</td>\n",
       "      <td>0.305202</td>\n",
       "      <td>0.067832</td>\n",
       "      <td>0.171114</td>\n",
       "      <td>0.098089</td>\n",
       "      <td>0.099251</td>\n",
       "      <td>0.218647</td>\n",
       "      <td>0.293064</td>\n",
       "      <td>0.191393</td>\n",
       "      <td>1.000000</td>\n",
       "      <td>0.438977</td>\n",
       "      <td>0.252946</td>\n",
       "      <td>0.073338</td>\n",
       "      <td>-0.131251</td>\n",
       "      <td>0.321805</td>\n",
       "      <td>0.402997</td>\n",
       "    </tr>\n",
       "    <tr>\n",
       "      <th>StreamingMovies</th>\n",
       "      <td>0.011074</td>\n",
       "      <td>0.049493</td>\n",
       "      <td>0.141736</td>\n",
       "      <td>0.015503</td>\n",
       "      <td>0.311133</td>\n",
       "      <td>0.056889</td>\n",
       "      <td>0.192355</td>\n",
       "      <td>0.096965</td>\n",
       "      <td>0.067875</td>\n",
       "      <td>0.210607</td>\n",
       "      <td>0.272831</td>\n",
       "      <td>0.179677</td>\n",
       "      <td>0.438977</td>\n",
       "      <td>1.000000</td>\n",
       "      <td>0.236898</td>\n",
       "      <td>0.085589</td>\n",
       "      <td>-0.122528</td>\n",
       "      <td>0.338805</td>\n",
       "      <td>0.423504</td>\n",
       "    </tr>\n",
       "    <tr>\n",
       "      <th>Contract</th>\n",
       "      <td>0.025599</td>\n",
       "      <td>-0.172690</td>\n",
       "      <td>0.309383</td>\n",
       "      <td>0.254728</td>\n",
       "      <td>0.681945</td>\n",
       "      <td>-0.012894</td>\n",
       "      <td>0.091895</td>\n",
       "      <td>0.089211</td>\n",
       "      <td>0.385079</td>\n",
       "      <td>0.294741</td>\n",
       "      <td>0.329857</td>\n",
       "      <td>0.450339</td>\n",
       "      <td>0.252946</td>\n",
       "      <td>0.236898</td>\n",
       "      <td>1.000000</td>\n",
       "      <td>-0.197515</td>\n",
       "      <td>-0.253130</td>\n",
       "      <td>-0.091740</td>\n",
       "      <td>0.435892</td>\n",
       "    </tr>\n",
       "    <tr>\n",
       "      <th>PaperlessBilling</th>\n",
       "      <td>0.015580</td>\n",
       "      <td>0.162925</td>\n",
       "      <td>-0.027714</td>\n",
       "      <td>-0.097981</td>\n",
       "      <td>-0.006065</td>\n",
       "      <td>0.071347</td>\n",
       "      <td>0.221792</td>\n",
       "      <td>-0.165289</td>\n",
       "      <td>-0.131868</td>\n",
       "      <td>0.003058</td>\n",
       "      <td>-0.031968</td>\n",
       "      <td>-0.095467</td>\n",
       "      <td>0.073338</td>\n",
       "      <td>0.085589</td>\n",
       "      <td>-0.197515</td>\n",
       "      <td>1.000000</td>\n",
       "      <td>-0.075109</td>\n",
       "      <td>0.381485</td>\n",
       "      <td>0.165041</td>\n",
       "    </tr>\n",
       "    <tr>\n",
       "      <th>PaymentMethod</th>\n",
       "      <td>0.030861</td>\n",
       "      <td>-0.054678</td>\n",
       "      <td>-0.130402</td>\n",
       "      <td>-0.055339</td>\n",
       "      <td>-0.383907</td>\n",
       "      <td>-0.004564</td>\n",
       "      <td>-0.167922</td>\n",
       "      <td>0.096648</td>\n",
       "      <td>-0.119955</td>\n",
       "      <td>-0.122460</td>\n",
       "      <td>-0.141079</td>\n",
       "      <td>-0.130095</td>\n",
       "      <td>-0.131251</td>\n",
       "      <td>-0.122528</td>\n",
       "      <td>-0.253130</td>\n",
       "      <td>-0.075109</td>\n",
       "      <td>1.000000</td>\n",
       "      <td>-0.192875</td>\n",
       "      <td>-0.326292</td>\n",
       "    </tr>\n",
       "    <tr>\n",
       "      <th>MonthlyCharges</th>\n",
       "      <td>-0.049705</td>\n",
       "      <td>0.244672</td>\n",
       "      <td>0.083977</td>\n",
       "      <td>-0.111541</td>\n",
       "      <td>0.232051</td>\n",
       "      <td>0.245334</td>\n",
       "      <td>0.429797</td>\n",
       "      <td>-0.333915</td>\n",
       "      <td>-0.047646</td>\n",
       "      <td>0.137248</td>\n",
       "      <td>0.153003</td>\n",
       "      <td>-0.051232</td>\n",
       "      <td>0.321805</td>\n",
       "      <td>0.338805</td>\n",
       "      <td>-0.091740</td>\n",
       "      <td>0.381485</td>\n",
       "      <td>-0.192875</td>\n",
       "      <td>1.000000</td>\n",
       "      <td>0.644657</td>\n",
       "    </tr>\n",
       "    <tr>\n",
       "      <th>TotalCharges</th>\n",
       "      <td>-0.013029</td>\n",
       "      <td>0.124945</td>\n",
       "      <td>0.319923</td>\n",
       "      <td>0.075798</td>\n",
       "      <td>0.820603</td>\n",
       "      <td>0.104376</td>\n",
       "      <td>0.453550</td>\n",
       "      <td>-0.199882</td>\n",
       "      <td>0.290083</td>\n",
       "      <td>0.418059</td>\n",
       "      <td>0.362163</td>\n",
       "      <td>0.284382</td>\n",
       "      <td>0.402997</td>\n",
       "      <td>0.423504</td>\n",
       "      <td>0.435892</td>\n",
       "      <td>0.165041</td>\n",
       "      <td>-0.326292</td>\n",
       "      <td>0.644657</td>\n",
       "      <td>1.000000</td>\n",
       "    </tr>\n",
       "  </tbody>\n",
       "</table>\n",
       "</div>"
      ],
      "text/plain": [
       "                    gender  SeniorCitizen   Partner  Dependents    tenure  \\\n",
       "gender            1.000000      -0.033382 -0.020060    0.032393  0.023211   \n",
       "SeniorCitizen    -0.033382       1.000000  0.008972   -0.202854  0.022508   \n",
       "Partner          -0.020060       0.008972  1.000000    0.450372  0.382196   \n",
       "Dependents        0.032393      -0.202854  0.450372    1.000000  0.172935   \n",
       "tenure            0.023211       0.022508  0.382196    0.172935  1.000000   \n",
       "PhoneService     -0.016134       0.027704  0.054310    0.014419 -0.000187   \n",
       "MultipleLines    -0.025921       0.165332  0.113595   -0.044799  0.333749   \n",
       "InternetService   0.024396      -0.041251 -0.004566    0.050530 -0.049623   \n",
       "OnlineSecurity    0.016898      -0.144526  0.123337    0.178684  0.364039   \n",
       "OnlineBackup     -0.017138       0.025990  0.164274    0.098401  0.403742   \n",
       "DeviceProtection -0.008360      -0.014783  0.175363    0.080572  0.341928   \n",
       "TechSupport       0.023072      -0.176657  0.144119    0.174987  0.356645   \n",
       "StreamingTV       0.013786      -0.031050  0.131675    0.048022  0.305202   \n",
       "StreamingMovies   0.011074       0.049493  0.141736    0.015503  0.311133   \n",
       "Contract          0.025599      -0.172690  0.309383    0.254728  0.681945   \n",
       "PaperlessBilling  0.015580       0.162925 -0.027714   -0.097981 -0.006065   \n",
       "PaymentMethod     0.030861      -0.054678 -0.130402   -0.055339 -0.383907   \n",
       "MonthlyCharges   -0.049705       0.244672  0.083977   -0.111541  0.232051   \n",
       "TotalCharges     -0.013029       0.124945  0.319923    0.075798  0.820603   \n",
       "\n",
       "                  PhoneService  MultipleLines  InternetService  \\\n",
       "gender               -0.016134      -0.025921         0.024396   \n",
       "SeniorCitizen         0.027704       0.165332        -0.041251   \n",
       "Partner               0.054310       0.113595        -0.004566   \n",
       "Dependents            0.014419      -0.044799         0.050530   \n",
       "tenure               -0.000187       0.333749        -0.049623   \n",
       "PhoneService          1.000000      -0.026386         0.386302   \n",
       "MultipleLines        -0.026386       1.000000        -0.099175   \n",
       "InternetService       0.386302      -0.099175         1.000000   \n",
       "OnlineSecurity       -0.031283       0.001321        -0.028404   \n",
       "OnlineBackup          0.041665       0.154480         0.067495   \n",
       "DeviceProtection      0.024506       0.113622         0.039657   \n",
       "TechSupport          -0.075948       0.018164        -0.031560   \n",
       "StreamingTV           0.067832       0.171114         0.098089   \n",
       "StreamingMovies       0.056889       0.192355         0.096965   \n",
       "Contract             -0.012894       0.091895         0.089211   \n",
       "PaperlessBilling      0.071347       0.221792        -0.165289   \n",
       "PaymentMethod        -0.004564      -0.167922         0.096648   \n",
       "MonthlyCharges        0.245334       0.429797        -0.333915   \n",
       "TotalCharges          0.104376       0.453550        -0.199882   \n",
       "\n",
       "                  OnlineSecurity  OnlineBackup  DeviceProtection  TechSupport  \\\n",
       "gender                  0.016898     -0.017138         -0.008360     0.023072   \n",
       "SeniorCitizen          -0.144526      0.025990         -0.014783    -0.176657   \n",
       "Partner                 0.123337      0.164274          0.175363     0.144119   \n",
       "Dependents              0.178684      0.098401          0.080572     0.174987   \n",
       "tenure                  0.364039      0.403742          0.341928     0.356645   \n",
       "PhoneService           -0.031283      0.041665          0.024506    -0.075948   \n",
       "MultipleLines           0.001321      0.154480          0.113622     0.018164   \n",
       "InternetService        -0.028404      0.067495          0.039657    -0.031560   \n",
       "OnlineSecurity          1.000000      0.203495          0.199124     0.319906   \n",
       "OnlineBackup            0.203495      1.000000          0.185567     0.221420   \n",
       "DeviceProtection        0.199124      0.185567          1.000000     0.206521   \n",
       "TechSupport             0.319906      0.221420          0.206521     1.000000   \n",
       "StreamingTV             0.099251      0.218647          0.293064     0.191393   \n",
       "StreamingMovies         0.067875      0.210607          0.272831     0.179677   \n",
       "Contract                0.385079      0.294741          0.329857     0.450339   \n",
       "PaperlessBilling       -0.131868      0.003058         -0.031968    -0.095467   \n",
       "PaymentMethod          -0.119955     -0.122460         -0.141079    -0.130095   \n",
       "MonthlyCharges         -0.047646      0.137248          0.153003    -0.051232   \n",
       "TotalCharges            0.290083      0.418059          0.362163     0.284382   \n",
       "\n",
       "                  StreamingTV  StreamingMovies  Contract  PaperlessBilling  \\\n",
       "gender               0.013786         0.011074  0.025599          0.015580   \n",
       "SeniorCitizen       -0.031050         0.049493 -0.172690          0.162925   \n",
       "Partner              0.131675         0.141736  0.309383         -0.027714   \n",
       "Dependents           0.048022         0.015503  0.254728         -0.097981   \n",
       "tenure               0.305202         0.311133  0.681945         -0.006065   \n",
       "PhoneService         0.067832         0.056889 -0.012894          0.071347   \n",
       "MultipleLines        0.171114         0.192355  0.091895          0.221792   \n",
       "InternetService      0.098089         0.096965  0.089211         -0.165289   \n",
       "OnlineSecurity       0.099251         0.067875  0.385079         -0.131868   \n",
       "OnlineBackup         0.218647         0.210607  0.294741          0.003058   \n",
       "DeviceProtection     0.293064         0.272831  0.329857         -0.031968   \n",
       "TechSupport          0.191393         0.179677  0.450339         -0.095467   \n",
       "StreamingTV          1.000000         0.438977  0.252946          0.073338   \n",
       "StreamingMovies      0.438977         1.000000  0.236898          0.085589   \n",
       "Contract             0.252946         0.236898  1.000000         -0.197515   \n",
       "PaperlessBilling     0.073338         0.085589 -0.197515          1.000000   \n",
       "PaymentMethod       -0.131251        -0.122528 -0.253130         -0.075109   \n",
       "MonthlyCharges       0.321805         0.338805 -0.091740          0.381485   \n",
       "TotalCharges         0.402997         0.423504  0.435892          0.165041   \n",
       "\n",
       "                  PaymentMethod  MonthlyCharges  TotalCharges  \n",
       "gender                 0.030861       -0.049705     -0.013029  \n",
       "SeniorCitizen         -0.054678        0.244672      0.124945  \n",
       "Partner               -0.130402        0.083977      0.319923  \n",
       "Dependents            -0.055339       -0.111541      0.075798  \n",
       "tenure                -0.383907        0.232051      0.820603  \n",
       "PhoneService          -0.004564        0.245334      0.104376  \n",
       "MultipleLines         -0.167922        0.429797      0.453550  \n",
       "InternetService        0.096648       -0.333915     -0.199882  \n",
       "OnlineSecurity        -0.119955       -0.047646      0.290083  \n",
       "OnlineBackup          -0.122460        0.137248      0.418059  \n",
       "DeviceProtection      -0.141079        0.153003      0.362163  \n",
       "TechSupport           -0.130095       -0.051232      0.284382  \n",
       "StreamingTV           -0.131251        0.321805      0.402997  \n",
       "StreamingMovies       -0.122528        0.338805      0.423504  \n",
       "Contract              -0.253130       -0.091740      0.435892  \n",
       "PaperlessBilling      -0.075109        0.381485      0.165041  \n",
       "PaymentMethod          1.000000       -0.192875     -0.326292  \n",
       "MonthlyCharges        -0.192875        1.000000      0.644657  \n",
       "TotalCharges          -0.326292        0.644657      1.000000  "
      ]
     },
     "execution_count": 52,
     "metadata": {},
     "output_type": "execute_result"
    }
   ],
   "source": [
    "## getting the correlation matrix\n",
    "X_test.corr()"
   ]
  },
  {
   "cell_type": "code",
   "execution_count": 53,
   "id": "2cb6319e",
   "metadata": {
    "execution": {
     "iopub.execute_input": "2024-10-25T08:28:39.277246Z",
     "iopub.status.busy": "2024-10-25T08:28:39.276807Z",
     "iopub.status.idle": "2024-10-25T08:28:39.283615Z",
     "shell.execute_reply": "2024-10-25T08:28:39.282660Z"
    },
    "papermill": {
     "duration": 0.044882,
     "end_time": "2024-10-25T08:28:39.285725",
     "exception": false,
     "start_time": "2024-10-25T08:28:39.240843",
     "status": "completed"
    },
    "tags": []
   },
   "outputs": [
    {
     "data": {
      "text/plain": [
       "dtype('int64')"
      ]
     },
     "execution_count": 53,
     "metadata": {},
     "output_type": "execute_result"
    }
   ],
   "source": [
    "X_train['tenure'].dtype"
   ]
  },
  {
   "cell_type": "code",
   "execution_count": 54,
   "id": "7a97e469",
   "metadata": {
    "execution": {
     "iopub.execute_input": "2024-10-25T08:28:39.357476Z",
     "iopub.status.busy": "2024-10-25T08:28:39.357058Z",
     "iopub.status.idle": "2024-10-25T08:28:39.364245Z",
     "shell.execute_reply": "2024-10-25T08:28:39.363207Z"
    },
    "papermill": {
     "duration": 0.045426,
     "end_time": "2024-10-25T08:28:39.366296",
     "exception": false,
     "start_time": "2024-10-25T08:28:39.320870",
     "status": "completed"
    },
    "tags": []
   },
   "outputs": [
    {
     "data": {
      "text/plain": [
       "0"
      ]
     },
     "execution_count": 54,
     "metadata": {},
     "output_type": "execute_result"
    }
   ],
   "source": [
    "X_train['tenure'].isna().sum()"
   ]
  },
  {
   "cell_type": "code",
   "execution_count": 55,
   "id": "41e5b443",
   "metadata": {
    "execution": {
     "iopub.execute_input": "2024-10-25T08:28:39.438288Z",
     "iopub.status.busy": "2024-10-25T08:28:39.437827Z",
     "iopub.status.idle": "2024-10-25T08:28:39.803225Z",
     "shell.execute_reply": "2024-10-25T08:28:39.802143Z"
    },
    "papermill": {
     "duration": 0.404639,
     "end_time": "2024-10-25T08:28:39.805694",
     "exception": false,
     "start_time": "2024-10-25T08:28:39.401055",
     "status": "completed"
    },
    "tags": []
   },
   "outputs": [
    {
     "name": "stderr",
     "output_type": "stream",
     "text": [
      "/opt/conda/lib/python3.10/site-packages/seaborn/_oldcore.py:1119: FutureWarning: use_inf_as_na option is deprecated and will be removed in a future version. Convert inf values to NaN before operating instead.\n",
      "  with pd.option_context('mode.use_inf_as_na', True):\n"
     ]
    },
    {
     "data": {
      "text/plain": [
       "<seaborn.axisgrid.FacetGrid at 0x7b7415c24d90>"
      ]
     },
     "execution_count": 55,
     "metadata": {},
     "output_type": "execute_result"
    },
    {
     "data": {
      "image/png": "[encoded data removed]",
      "text/plain": [
       "<Figure size 500x500 with 1 Axes>"
      ]
     },
     "metadata": {},
     "output_type": "display_data"
    }
   ],
   "source": [
    "## we have 3 numerical columns so need to cehck thier distribution also\n",
    "## Distribution of Tenure\n",
    "sns.displot(X_train['tenure'], color='green')"
   ]
  },
  {
   "cell_type": "code",
   "execution_count": 56,
   "id": "9938f51f",
   "metadata": {
    "execution": {
     "iopub.execute_input": "2024-10-25T08:28:39.878782Z",
     "iopub.status.busy": "2024-10-25T08:28:39.877780Z",
     "iopub.status.idle": "2024-10-25T08:28:40.234612Z",
     "shell.execute_reply": "2024-10-25T08:28:40.233482Z"
    },
    "papermill": {
     "duration": 0.395869,
     "end_time": "2024-10-25T08:28:40.236945",
     "exception": false,
     "start_time": "2024-10-25T08:28:39.841076",
     "status": "completed"
    },
    "tags": []
   },
   "outputs": [
    {
     "name": "stderr",
     "output_type": "stream",
     "text": [
      "/opt/conda/lib/python3.10/site-packages/seaborn/_oldcore.py:1119: FutureWarning: use_inf_as_na option is deprecated and will be removed in a future version. Convert inf values to NaN before operating instead.\n",
      "  with pd.option_context('mode.use_inf_as_na', True):\n"
     ]
    },
    {
     "data": {
      "text/plain": [
       "<seaborn.axisgrid.FacetGrid at 0x7b7418e29180>"
      ]
     },
     "execution_count": 56,
     "metadata": {},
     "output_type": "execute_result"
    },
    {
     "data": {
      "image/png": "[encoded data removed]",
      "text/plain": [
       "<Figure size 500x500 with 1 Axes>"
      ]
     },
     "metadata": {},
     "output_type": "display_data"
    }
   ],
   "source": [
    "## Distribution of MonthlyCharges\n",
    "sns.displot(X_train['MonthlyCharges'], color='red')"
   ]
  },
  {
   "cell_type": "code",
   "execution_count": 57,
   "id": "f5b36efc",
   "metadata": {
    "execution": {
     "iopub.execute_input": "2024-10-25T08:28:40.314678Z",
     "iopub.status.busy": "2024-10-25T08:28:40.313629Z",
     "iopub.status.idle": "2024-10-25T08:28:40.686244Z",
     "shell.execute_reply": "2024-10-25T08:28:40.684992Z"
    },
    "papermill": {
     "duration": 0.414939,
     "end_time": "2024-10-25T08:28:40.688520",
     "exception": false,
     "start_time": "2024-10-25T08:28:40.273581",
     "status": "completed"
    },
    "tags": []
   },
   "outputs": [
    {
     "name": "stderr",
     "output_type": "stream",
     "text": [
      "/opt/conda/lib/python3.10/site-packages/seaborn/_oldcore.py:1119: FutureWarning: use_inf_as_na option is deprecated and will be removed in a future version. Convert inf values to NaN before operating instead.\n",
      "  with pd.option_context('mode.use_inf_as_na', True):\n"
     ]
    },
    {
     "data": {
      "text/plain": [
       "<seaborn.axisgrid.FacetGrid at 0x7b74130ba4a0>"
      ]
     },
     "execution_count": 57,
     "metadata": {},
     "output_type": "execute_result"
    },
    {
     "data": {
      "image/png": "[encoded data removed]",
      "text/plain": [
       "<Figure size 500x500 with 1 Axes>"
      ]
     },
     "metadata": {},
     "output_type": "display_data"
    }
   ],
   "source": [
    "## Distribution of Total Charges\n",
    "sns.displot(X_train['TotalCharges'], color='blue')"
   ]
  },
  {
   "cell_type": "markdown",
   "id": "7d7f267b",
   "metadata": {
    "papermill": {
     "duration": 0.035795,
     "end_time": "2024-10-25T08:28:40.760527",
     "exception": false,
     "start_time": "2024-10-25T08:28:40.724732",
     "status": "completed"
    },
    "tags": []
   },
   "source": [
    "## Now we need to standardize these numerical columns"
   ]
  },
  {
   "cell_type": "code",
   "execution_count": 58,
   "id": "c29cc49d",
   "metadata": {
    "execution": {
     "iopub.execute_input": "2024-10-25T08:28:40.835213Z",
     "iopub.status.busy": "2024-10-25T08:28:40.834342Z",
     "iopub.status.idle": "2024-10-25T08:28:40.839429Z",
     "shell.execute_reply": "2024-10-25T08:28:40.838357Z"
    },
    "papermill": {
     "duration": 0.0448,
     "end_time": "2024-10-25T08:28:40.841659",
     "exception": false,
     "start_time": "2024-10-25T08:28:40.796859",
     "status": "completed"
    },
    "tags": []
   },
   "outputs": [],
   "source": [
    "from sklearn.preprocessing import StandardScaler"
   ]
  },
  {
   "cell_type": "code",
   "execution_count": 59,
   "id": "69ec32a7",
   "metadata": {
    "execution": {
     "iopub.execute_input": "2024-10-25T08:28:40.916322Z",
     "iopub.status.busy": "2024-10-25T08:28:40.915554Z",
     "iopub.status.idle": "2024-10-25T08:28:40.926397Z",
     "shell.execute_reply": "2024-10-25T08:28:40.925361Z"
    },
    "papermill": {
     "duration": 0.050633,
     "end_time": "2024-10-25T08:28:40.928530",
     "exception": false,
     "start_time": "2024-10-25T08:28:40.877897",
     "status": "completed"
    },
    "tags": []
   },
   "outputs": [],
   "source": [
    "columns = ['tenure', 'TotalCharges', 'MonthlyCharges']\n",
    "\n",
    "for col in columns:\n",
    "    sc = StandardScaler()\n",
    "    \n",
    "    X_train[col] = sc.fit_transform(X_train[col].values.reshape(-1, 1))\n",
    "    X_test[col] = sc.transform(X_test[col].values.reshape(-1, 1))"
   ]
  },
  {
   "cell_type": "code",
   "execution_count": 60,
   "id": "bcd28024",
   "metadata": {
    "execution": {
     "iopub.execute_input": "2024-10-25T08:28:41.004443Z",
     "iopub.status.busy": "2024-10-25T08:28:41.003578Z",
     "iopub.status.idle": "2024-10-25T08:28:41.020390Z",
     "shell.execute_reply": "2024-10-25T08:28:41.019424Z"
    },
    "papermill": {
     "duration": 0.056987,
     "end_time": "2024-10-25T08:28:41.022604",
     "exception": false,
     "start_time": "2024-10-25T08:28:40.965617",
     "status": "completed"
    },
    "tags": []
   },
   "outputs": [
    {
     "data": {
      "text/html": [
       "<div>\n",
       "<style scoped>\n",
       "    .dataframe tbody tr th:only-of-type {\n",
       "        vertical-align: middle;\n",
       "    }\n",
       "\n",
       "    .dataframe tbody tr th {\n",
       "        vertical-align: top;\n",
       "    }\n",
       "\n",
       "    .dataframe thead th {\n",
       "        text-align: right;\n",
       "    }\n",
       "</style>\n",
       "<table border=\"1\" class=\"dataframe\">\n",
       "  <thead>\n",
       "    <tr style=\"text-align: right;\">\n",
       "      <th></th>\n",
       "      <th>gender</th>\n",
       "      <th>SeniorCitizen</th>\n",
       "      <th>Partner</th>\n",
       "      <th>Dependents</th>\n",
       "      <th>tenure</th>\n",
       "      <th>PhoneService</th>\n",
       "      <th>MultipleLines</th>\n",
       "      <th>InternetService</th>\n",
       "      <th>OnlineSecurity</th>\n",
       "      <th>OnlineBackup</th>\n",
       "      <th>DeviceProtection</th>\n",
       "      <th>TechSupport</th>\n",
       "      <th>StreamingTV</th>\n",
       "      <th>StreamingMovies</th>\n",
       "      <th>Contract</th>\n",
       "      <th>PaperlessBilling</th>\n",
       "      <th>PaymentMethod</th>\n",
       "      <th>MonthlyCharges</th>\n",
       "      <th>TotalCharges</th>\n",
       "    </tr>\n",
       "  </thead>\n",
       "  <tbody>\n",
       "    <tr>\n",
       "      <th>974</th>\n",
       "      <td>0</td>\n",
       "      <td>0</td>\n",
       "      <td>1</td>\n",
       "      <td>1</td>\n",
       "      <td>1.077320</td>\n",
       "      <td>1</td>\n",
       "      <td>0</td>\n",
       "      <td>0</td>\n",
       "      <td>0</td>\n",
       "      <td>2</td>\n",
       "      <td>0</td>\n",
       "      <td>2</td>\n",
       "      <td>2</td>\n",
       "      <td>2</td>\n",
       "      <td>2</td>\n",
       "      <td>1</td>\n",
       "      <td>1</td>\n",
       "      <td>0.363738</td>\n",
       "      <td>0.984674</td>\n",
       "    </tr>\n",
       "    <tr>\n",
       "      <th>619</th>\n",
       "      <td>0</td>\n",
       "      <td>0</td>\n",
       "      <td>0</td>\n",
       "      <td>0</td>\n",
       "      <td>-1.041649</td>\n",
       "      <td>1</td>\n",
       "      <td>2</td>\n",
       "      <td>1</td>\n",
       "      <td>0</td>\n",
       "      <td>2</td>\n",
       "      <td>0</td>\n",
       "      <td>0</td>\n",
       "      <td>0</td>\n",
       "      <td>0</td>\n",
       "      <td>0</td>\n",
       "      <td>1</td>\n",
       "      <td>0</td>\n",
       "      <td>0.450100</td>\n",
       "      <td>-0.781798</td>\n",
       "    </tr>\n",
       "    <tr>\n",
       "      <th>4289</th>\n",
       "      <td>0</td>\n",
       "      <td>0</td>\n",
       "      <td>0</td>\n",
       "      <td>0</td>\n",
       "      <td>0.873573</td>\n",
       "      <td>1</td>\n",
       "      <td>0</td>\n",
       "      <td>2</td>\n",
       "      <td>1</td>\n",
       "      <td>1</td>\n",
       "      <td>1</td>\n",
       "      <td>1</td>\n",
       "      <td>1</td>\n",
       "      <td>1</td>\n",
       "      <td>2</td>\n",
       "      <td>0</td>\n",
       "      <td>3</td>\n",
       "      <td>-1.491376</td>\n",
       "      <td>-0.537223</td>\n",
       "    </tr>\n",
       "    <tr>\n",
       "      <th>3721</th>\n",
       "      <td>0</td>\n",
       "      <td>0</td>\n",
       "      <td>0</td>\n",
       "      <td>0</td>\n",
       "      <td>-1.245396</td>\n",
       "      <td>1</td>\n",
       "      <td>0</td>\n",
       "      <td>2</td>\n",
       "      <td>1</td>\n",
       "      <td>1</td>\n",
       "      <td>1</td>\n",
       "      <td>1</td>\n",
       "      <td>1</td>\n",
       "      <td>1</td>\n",
       "      <td>0</td>\n",
       "      <td>0</td>\n",
       "      <td>3</td>\n",
       "      <td>-1.473107</td>\n",
       "      <td>-0.994619</td>\n",
       "    </tr>\n",
       "    <tr>\n",
       "      <th>4533</th>\n",
       "      <td>0</td>\n",
       "      <td>0</td>\n",
       "      <td>1</td>\n",
       "      <td>0</td>\n",
       "      <td>1.566313</td>\n",
       "      <td>1</td>\n",
       "      <td>2</td>\n",
       "      <td>1</td>\n",
       "      <td>0</td>\n",
       "      <td>2</td>\n",
       "      <td>2</td>\n",
       "      <td>0</td>\n",
       "      <td>2</td>\n",
       "      <td>2</td>\n",
       "      <td>2</td>\n",
       "      <td>1</td>\n",
       "      <td>0</td>\n",
       "      <td>1.333645</td>\n",
       "      <td>2.308692</td>\n",
       "    </tr>\n",
       "  </tbody>\n",
       "</table>\n",
       "</div>"
      ],
      "text/plain": [
       "      gender  SeniorCitizen  Partner  Dependents    tenure  PhoneService  \\\n",
       "974        0              0        1           1  1.077320             1   \n",
       "619        0              0        0           0 -1.041649             1   \n",
       "4289       0              0        0           0  0.873573             1   \n",
       "3721       0              0        0           0 -1.245396             1   \n",
       "4533       0              0        1           0  1.566313             1   \n",
       "\n",
       "      MultipleLines  InternetService  OnlineSecurity  OnlineBackup  \\\n",
       "974               0                0               0             2   \n",
       "619               2                1               0             2   \n",
       "4289              0                2               1             1   \n",
       "3721              0                2               1             1   \n",
       "4533              2                1               0             2   \n",
       "\n",
       "      DeviceProtection  TechSupport  StreamingTV  StreamingMovies  Contract  \\\n",
       "974                  0            2            2                2         2   \n",
       "619                  0            0            0                0         0   \n",
       "4289                 1            1            1                1         2   \n",
       "3721                 1            1            1                1         0   \n",
       "4533                 2            0            2                2         2   \n",
       "\n",
       "      PaperlessBilling  PaymentMethod  MonthlyCharges  TotalCharges  \n",
       "974                  1              1        0.363738      0.984674  \n",
       "619                  1              0        0.450100     -0.781798  \n",
       "4289                 0              3       -1.491376     -0.537223  \n",
       "3721                 0              3       -1.473107     -0.994619  \n",
       "4533                 1              0        1.333645      2.308692  "
      ]
     },
     "execution_count": 60,
     "metadata": {},
     "output_type": "execute_result"
    }
   ],
   "source": [
    "X_test.head()"
   ]
  },
  {
   "cell_type": "markdown",
   "id": "a7698c36",
   "metadata": {
    "papermill": {
     "duration": 0.038446,
     "end_time": "2024-10-25T08:28:41.099371",
     "exception": false,
     "start_time": "2024-10-25T08:28:41.060925",
     "status": "completed"
    },
    "tags": []
   },
   "source": [
    "### So the values are now standardized"
   ]
  },
  {
   "cell_type": "markdown",
   "id": "68ce1f8c",
   "metadata": {
    "papermill": {
     "duration": 0.038749,
     "end_time": "2024-10-25T08:28:41.174987",
     "exception": false,
     "start_time": "2024-10-25T08:28:41.136238",
     "status": "completed"
    },
    "tags": []
   },
   "source": [
    "## Now comes Model Building Part and evaluation"
   ]
  },
  {
   "cell_type": "markdown",
   "id": "7dfcc7c7",
   "metadata": {
    "papermill": {
     "duration": 0.036943,
     "end_time": "2024-10-25T08:28:41.248815",
     "exception": false,
     "start_time": "2024-10-25T08:28:41.211872",
     "status": "completed"
    },
    "tags": []
   },
   "source": [
    "#### RANDOM FOREST"
   ]
  },
  {
   "cell_type": "code",
   "execution_count": 61,
   "id": "be253079",
   "metadata": {
    "execution": {
     "iopub.execute_input": "2024-10-25T08:28:41.325296Z",
     "iopub.status.busy": "2024-10-25T08:28:41.323982Z",
     "iopub.status.idle": "2024-10-25T08:28:43.892980Z",
     "shell.execute_reply": "2024-10-25T08:28:43.891815Z"
    },
    "papermill": {
     "duration": 2.609622,
     "end_time": "2024-10-25T08:28:43.895381",
     "exception": false,
     "start_time": "2024-10-25T08:28:41.285759",
     "status": "completed"
    },
    "tags": []
   },
   "outputs": [
    {
     "name": "stderr",
     "output_type": "stream",
     "text": [
      "/opt/conda/lib/python3.10/site-packages/sklearn/ensemble/_forest.py:424: FutureWarning: `max_features='auto'` has been deprecated in 1.1 and will be removed in 1.3. To keep the past behaviour, explicitly set `max_features='sqrt'` or remove this parameter as it is also the default value for RandomForestClassifiers and ExtraTreesClassifiers.\n",
      "  warn(\n"
     ]
    },
    {
     "name": "stdout",
     "output_type": "stream",
     "text": [
      "0.7889125799573561\n"
     ]
    }
   ],
   "source": [
    "## Random Forest Classifier\n",
    "from sklearn.ensemble import RandomForestClassifier\n",
    "from sklearn import metrics\n",
    "\n",
    "model_random_forest = RandomForestClassifier(n_estimators=500 , oob_score = True, n_jobs = -1,\n",
    "                                  random_state =50, max_features = \"auto\",\n",
    "                                  max_leaf_nodes = 30)\n",
    "model_random_forest.fit(X_train, y_train)\n",
    "\n",
    "# Make predictions\n",
    "prediction_test = model_random_forest.predict(X_test)\n",
    "print(metrics.accuracy_score(y_test, prediction_test))"
   ]
  },
  {
   "cell_type": "markdown",
   "id": "77d22996",
   "metadata": {
    "papermill": {
     "duration": 0.037233,
     "end_time": "2024-10-25T08:28:43.969566",
     "exception": false,
     "start_time": "2024-10-25T08:28:43.932333",
     "status": "completed"
    },
    "tags": []
   },
   "source": [
    "### But do you think simply calculating accuarcy score is a good way to check how well model is performing\n",
    "\n",
    "* ### we use confusion metrics in this case"
   ]
  },
  {
   "cell_type": "code",
   "execution_count": 62,
   "id": "9150daed",
   "metadata": {
    "execution": {
     "iopub.execute_input": "2024-10-25T08:28:44.045141Z",
     "iopub.status.busy": "2024-10-25T08:28:44.044330Z",
     "iopub.status.idle": "2024-10-25T08:28:44.051539Z",
     "shell.execute_reply": "2024-10-25T08:28:44.050348Z"
    },
    "papermill": {
     "duration": 0.047311,
     "end_time": "2024-10-25T08:28:44.053679",
     "exception": false,
     "start_time": "2024-10-25T08:28:44.006368",
     "status": "completed"
    },
    "tags": []
   },
   "outputs": [
    {
     "name": "stdout",
     "output_type": "stream",
     "text": [
      "[[939  94]\n",
      " [203 171]]\n"
     ]
    }
   ],
   "source": [
    "cnf = metrics.confusion_matrix(y_test, prediction_test)\n",
    "print(cnf)"
   ]
  },
  {
   "cell_type": "code",
   "execution_count": 63,
   "id": "7c76a359",
   "metadata": {
    "execution": {
     "iopub.execute_input": "2024-10-25T08:28:44.130378Z",
     "iopub.status.busy": "2024-10-25T08:28:44.129405Z",
     "iopub.status.idle": "2024-10-25T08:28:44.468300Z",
     "shell.execute_reply": "2024-10-25T08:28:44.467324Z"
    },
    "papermill": {
     "duration": 0.379544,
     "end_time": "2024-10-25T08:28:44.470559",
     "exception": false,
     "start_time": "2024-10-25T08:28:44.091015",
     "status": "completed"
    },
    "tags": []
   },
   "outputs": [
    {
     "data": {
      "text/plain": [
       "Text(0.5, 1.0, 'Confusion matrix for Random forest')"
      ]
     },
     "execution_count": 63,
     "metadata": {},
     "output_type": "execute_result"
    },
    {
     "data": {
      "image/png": "[encoded data removed]",
      "text/plain": [
       "<Figure size 400x300 with 2 Axes>"
      ]
     },
     "metadata": {},
     "output_type": "display_data"
    }
   ],
   "source": [
    "## lets visulaize it using a heatmap\n",
    "plt.figure(figsize=(4, 3))\n",
    "sns.heatmap(cnf, annot=True,fmt = \"d\",linecolor=\"k\",linewidths=3)\n",
    "plt.title(\"Confusion matrix for Random forest\")"
   ]
  },
  {
   "cell_type": "code",
   "execution_count": 64,
   "id": "ffbce606",
   "metadata": {
    "execution": {
     "iopub.execute_input": "2024-10-25T08:28:44.547821Z",
     "iopub.status.busy": "2024-10-25T08:28:44.547039Z",
     "iopub.status.idle": "2024-10-25T08:28:45.001574Z",
     "shell.execute_reply": "2024-10-25T08:28:45.000272Z"
    },
    "papermill": {
     "duration": 0.496279,
     "end_time": "2024-10-25T08:28:45.004275",
     "exception": false,
     "start_time": "2024-10-25T08:28:44.507996",
     "status": "completed"
    },
    "tags": []
   },
   "outputs": [
    {
     "name": "stdout",
     "output_type": "stream",
     "text": [
      "Score : 0.8347953367741535\n"
     ]
    },
    {
     "data": {
      "image/png": "[encoded data removed]",
      "text/plain": [
       "<Figure size 640x480 with 1 Axes>"
      ]
     },
     "metadata": {},
     "output_type": "display_data"
    }
   ],
   "source": [
    "## Lets build ROC curve for this\n",
    "y_pred_prob = model_random_forest.predict_proba(X_test)[:,1] ## predicts probability of both calsses and positive one\n",
    "fpr, tpr, thresholds = metrics.roc_curve(y_test, y_pred_prob)\n",
    "score = metrics.roc_auc_score(y_test, y_pred_prob)\n",
    "print(f\"Score : {score}\")\n",
    "plt.plot([0, 1], [0, 1], 'k--' )\n",
    "plt.plot(fpr, tpr, label='Random Forest',color = \"r\")\n",
    "plt.xlabel('False Positive Rate')\n",
    "plt.ylabel('True Positive Rate')\n",
    "plt.title('Random Forest ROC Curve',fontsize=16)\n",
    "plt.show();"
   ]
  },
  {
   "cell_type": "markdown",
   "id": "84b114a8",
   "metadata": {
    "papermill": {
     "duration": 0.038274,
     "end_time": "2024-10-25T08:28:45.080648",
     "exception": false,
     "start_time": "2024-10-25T08:28:45.042374",
     "status": "completed"
    },
    "tags": []
   },
   "source": [
    "#### LOGISTIC REGRESSION"
   ]
  },
  {
   "cell_type": "code",
   "execution_count": 65,
   "id": "4eab731a",
   "metadata": {
    "execution": {
     "iopub.execute_input": "2024-10-25T08:28:45.158527Z",
     "iopub.status.busy": "2024-10-25T08:28:45.158066Z",
     "iopub.status.idle": "2024-10-25T08:28:45.224672Z",
     "shell.execute_reply": "2024-10-25T08:28:45.223562Z"
    },
    "papermill": {
     "duration": 0.10894,
     "end_time": "2024-10-25T08:28:45.227511",
     "exception": false,
     "start_time": "2024-10-25T08:28:45.118571",
     "status": "completed"
    },
    "tags": []
   },
   "outputs": [
    {
     "name": "stdout",
     "output_type": "stream",
     "text": [
      "Accuracy for logistic regression model is : 0.7931769722814499\n"
     ]
    }
   ],
   "source": [
    "from sklearn.linear_model import LogisticRegression\n",
    "\n",
    "model_lg = LogisticRegression()\n",
    "model_lg.fit(X_train, y_train)\n",
    "predictions = model_lg.predict(X_test)\n",
    "\n",
    "print(f\"Accuracy for logistic regression model is : {metrics.accuracy_score(y_test, predictions)}\")"
   ]
  },
  {
   "cell_type": "code",
   "execution_count": 66,
   "id": "11e1b7f5",
   "metadata": {
    "execution": {
     "iopub.execute_input": "2024-10-25T08:28:45.358211Z",
     "iopub.status.busy": "2024-10-25T08:28:45.357758Z",
     "iopub.status.idle": "2024-10-25T08:28:45.598588Z",
     "shell.execute_reply": "2024-10-25T08:28:45.597519Z"
    },
    "papermill": {
     "duration": 0.306091,
     "end_time": "2024-10-25T08:28:45.600845",
     "exception": false,
     "start_time": "2024-10-25T08:28:45.294754",
     "status": "completed"
    },
    "tags": []
   },
   "outputs": [
    {
     "data": {
      "text/plain": [
       "Text(0.5, 1.0, 'Confusion matrix for Logistic Regression')"
      ]
     },
     "execution_count": 66,
     "metadata": {},
     "output_type": "execute_result"
    },
    {
     "data": {
      "image/png": "[encoded data removed]",
      "text/plain": [
       "<Figure size 400x300 with 2 Axes>"
      ]
     },
     "metadata": {},
     "output_type": "display_data"
    }
   ],
   "source": [
    "## Confusion matric for logistic regression\n",
    "cnf = metrics.confusion_matrix(y_test, predictions)\n",
    "plt.figure(figsize=(4, 3))\n",
    "sns.heatmap(cnf, annot=True,fmt = \"d\",linecolor=\"k\",linewidths=3)\n",
    "plt.title(\"Confusion matrix for Logistic Regression\")"
   ]
  },
  {
   "cell_type": "code",
   "execution_count": 67,
   "id": "fc35c72e",
   "metadata": {
    "execution": {
     "iopub.execute_input": "2024-10-25T08:28:45.679913Z",
     "iopub.status.busy": "2024-10-25T08:28:45.679505Z",
     "iopub.status.idle": "2024-10-25T08:28:45.938055Z",
     "shell.execute_reply": "2024-10-25T08:28:45.936963Z"
    },
    "papermill": {
     "duration": 0.30055,
     "end_time": "2024-10-25T08:28:45.940328",
     "exception": false,
     "start_time": "2024-10-25T08:28:45.639778",
     "status": "completed"
    },
    "tags": []
   },
   "outputs": [
    {
     "name": "stdout",
     "output_type": "stream",
     "text": [
      "Score : 0.8344588473425101\n"
     ]
    },
    {
     "data": {
      "image/png": "[encoded data removed]",
      "text/plain": [
       "<Figure size 640x480 with 1 Axes>"
      ]
     },
     "metadata": {},
     "output_type": "display_data"
    }
   ],
   "source": [
    "## Lets build ROC curve for Logistic Regression\n",
    "y_pred_prob = model_lg.predict_proba(X_test)[:,1] ## predicts probability of both calsses and positive one\n",
    "fpr, tpr, thresholds = metrics.roc_curve(y_test, y_pred_prob)\n",
    "score = metrics.roc_auc_score(y_test, y_pred_prob)\n",
    "print(f\"Score : {score}\")\n",
    "plt.plot([0, 1], [0, 1], 'k--' )\n",
    "plt.plot(fpr, tpr, label='Logistic Regression',color = \"r\")\n",
    "plt.xlabel('False Positive Rate')\n",
    "plt.ylabel('True Positive Rate')\n",
    "plt.title('Logistic Regression ROC Curve',fontsize=16)\n",
    "plt.show();"
   ]
  },
  {
   "cell_type": "markdown",
   "id": "e3f5e109",
   "metadata": {
    "papermill": {
     "duration": 0.039222,
     "end_time": "2024-10-25T08:28:46.018970",
     "exception": false,
     "start_time": "2024-10-25T08:28:45.979748",
     "status": "completed"
    },
    "tags": []
   },
   "source": [
    "## XGBOOST"
   ]
  },
  {
   "cell_type": "code",
   "execution_count": 68,
   "id": "0331ec8f",
   "metadata": {
    "execution": {
     "iopub.execute_input": "2024-10-25T08:28:46.100729Z",
     "iopub.status.busy": "2024-10-25T08:28:46.100317Z",
     "iopub.status.idle": "2024-10-25T08:28:46.995750Z",
     "shell.execute_reply": "2024-10-25T08:28:46.994502Z"
    },
    "papermill": {
     "duration": 0.938825,
     "end_time": "2024-10-25T08:28:46.998057",
     "exception": false,
     "start_time": "2024-10-25T08:28:46.059232",
     "status": "completed"
    },
    "tags": []
   },
   "outputs": [
    {
     "name": "stdout",
     "output_type": "stream",
     "text": [
      "Accuracy score for gradient boosting is : 0.7974413646055437\n"
     ]
    }
   ],
   "source": [
    "from sklearn.ensemble import GradientBoostingClassifier\n",
    "\n",
    "gb = GradientBoostingClassifier()\n",
    "gb.fit(X_train, y_train)\n",
    "predictions = gb.predict(X_test)\n",
    "\n",
    "print(f\"Accuracy score for gradient boosting is : {metrics.accuracy_score(y_test, predictions)}\")"
   ]
  },
  {
   "cell_type": "code",
   "execution_count": 69,
   "id": "b6003796",
   "metadata": {
    "execution": {
     "iopub.execute_input": "2024-10-25T08:28:47.079721Z",
     "iopub.status.busy": "2024-10-25T08:28:47.079282Z",
     "iopub.status.idle": "2024-10-25T08:28:47.332602Z",
     "shell.execute_reply": "2024-10-25T08:28:47.331411Z"
    },
    "papermill": {
     "duration": 0.296938,
     "end_time": "2024-10-25T08:28:47.334893",
     "exception": false,
     "start_time": "2024-10-25T08:28:47.037955",
     "status": "completed"
    },
    "tags": []
   },
   "outputs": [
    {
     "data": {
      "text/plain": [
       "Text(0.5, 1.0, 'Confusion matrix for XGBoost')"
      ]
     },
     "execution_count": 69,
     "metadata": {},
     "output_type": "execute_result"
    },
    {
     "data": {
      "image/png": "[encoded data removed]",
      "text/plain": [
       "<Figure size 400x300 with 2 Axes>"
      ]
     },
     "metadata": {},
     "output_type": "display_data"
    }
   ],
   "source": [
    "## Confusion matric for XGBoost\n",
    "cnf = metrics.confusion_matrix(y_test, predictions)\n",
    "plt.figure(figsize=(4, 3))\n",
    "sns.heatmap(cnf, annot=True,fmt = \"d\",linecolor=\"k\",linewidths=3)\n",
    "plt.title(\"Confusion matrix for XGBoost\")"
   ]
  },
  {
   "cell_type": "code",
   "execution_count": 70,
   "id": "0a2ac303",
   "metadata": {
    "execution": {
     "iopub.execute_input": "2024-10-25T08:28:47.418823Z",
     "iopub.status.busy": "2024-10-25T08:28:47.418057Z",
     "iopub.status.idle": "2024-10-25T08:28:47.618019Z",
     "shell.execute_reply": "2024-10-25T08:28:47.616999Z"
    },
    "papermill": {
     "duration": 0.244299,
     "end_time": "2024-10-25T08:28:47.620195",
     "exception": false,
     "start_time": "2024-10-25T08:28:47.375896",
     "status": "completed"
    },
    "tags": []
   },
   "outputs": [
    {
     "name": "stdout",
     "output_type": "stream",
     "text": [
      "Score : 0.839304295158176\n"
     ]
    },
    {
     "data": {
      "image/png": "[encoded data removed]",
      "text/plain": [
       "<Figure size 640x480 with 1 Axes>"
      ]
     },
     "metadata": {},
     "output_type": "display_data"
    }
   ],
   "source": [
    "## Lets build ROC curve for Linear Regression\n",
    "y_pred_prob = gb.predict_proba(X_test)[:,1] ## predicts probability of both calsses and positive one\n",
    "fpr, tpr, thresholds = metrics.roc_curve(y_test, y_pred_prob)\n",
    "score = metrics.roc_auc_score(y_test, y_pred_prob)\n",
    "print(f\"Score : {score}\")\n",
    "plt.plot([0, 1], [0, 1], 'k--' )\n",
    "plt.plot(fpr, tpr, label='XGBoost',color = \"r\")\n",
    "plt.xlabel('False Positive Rate')\n",
    "plt.ylabel('True Positive Rate')\n",
    "plt.title('XGBoost ROC Curve',fontsize=16)\n",
    "plt.show();"
   ]
  },
  {
   "cell_type": "code",
   "execution_count": null,
   "id": "85244ab2",
   "metadata": {
    "papermill": {
     "duration": 0.040574,
     "end_time": "2024-10-25T08:28:47.701974",
     "exception": false,
     "start_time": "2024-10-25T08:28:47.661400",
     "status": "completed"
    },
    "tags": []
   },
   "outputs": [],
   "source": []
  }
 ],
 "metadata": {
  "kaggle": {
   "accelerator": "none",
   "dataSources": [
    {
     "datasetId": 13996,
     "sourceId": 18858,
     "sourceType": "datasetVersion"
    }
   ],
   "dockerImageVersionId": 30786,
   "isGpuEnabled": false,
   "isInternetEnabled": true,
   "language": "python",
   "sourceType": "notebook"
  },
  "kernelspec": {
   "display_name": "Python 3",
   "language": "python",
   "name": "python3"
  },
  "language_info": {
   "codemirror_mode": {
    "name": "ipython",
    "version": 3
   },
   "file_extension": ".py",
   "mimetype": "text/x-python",
   "name": "python",
   "nbconvert_exporter": "python",
   "pygments_lexer": "ipython3",
   "version": "3.10.14"
  },
  "papermill": {
   "default_parameters": {},
   "duration": 26.030379,
   "end_time": "2024-10-25T08:28:48.464539",
   "environment_variables": {},
   "exception": null,
   "input_path": "__notebook__.ipynb",
   "output_path": "__notebook__.ipynb",
   "parameters": {},
   "start_time": "2024-10-25T08:28:22.434160",
   "version": "2.6.0"
  }
 },
 "nbformat": 4,
 "nbformat_minor": 5
}
